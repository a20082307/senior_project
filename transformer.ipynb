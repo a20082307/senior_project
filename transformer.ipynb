{
 "cells": [
  {
   "cell_type": "markdown",
   "metadata": {},
   "source": [
    "## Initialize"
   ]
  },
  {
   "cell_type": "markdown",
   "metadata": {},
   "source": [
    "### Import modules"
   ]
  },
  {
   "cell_type": "code",
   "execution_count": 653,
   "metadata": {},
   "outputs": [],
   "source": [
    "import datetime\n",
    "import math\n",
    "import os\n",
    "\n",
    "import matplotlib.pyplot as plt\n",
    "import numpy as np \n",
    "import pandas as pd\n",
    "import shioaji as sj\n",
    "import talib as ta\n",
    "import torch\n",
    "import wandb\n",
    "\n",
    "from tqdm import tqdm"
   ]
  },
  {
   "cell_type": "markdown",
   "metadata": {},
   "source": [
    "### Hyper parameters and parameters"
   ]
  },
  {
   "cell_type": "code",
   "execution_count": 654,
   "metadata": {},
   "outputs": [],
   "source": [
    "## Hyperparameters\n",
    "SEQ_LEN = 32\n",
    "BATCH_SIZE = 64\n",
    "EPOCHS = 50\n",
    "D_MODEL = 20\n",
    "NUM_HEADS = 10\n",
    "NUM_ENCODER_LAYERS = 6\n",
    "DROPOUT_RATE = 0.05\n",
    "LEARNING_RATE = 1e-4\n",
    "\n",
    "## Parameters\n",
    "MIN_LATER = 1  # The minute we want to predict in the future\n",
    "DEVICE = (torch.cuda.is_available() and 'cuda:0') or 'cpu'"
   ]
  },
  {
   "cell_type": "markdown",
   "metadata": {},
   "source": [
    "### Connect with weight and bias website"
   ]
  },
  {
   "cell_type": "code",
   "execution_count": 655,
   "metadata": {},
   "outputs": [
    {
     "data": {
      "text/html": [
       "Finishing last run (ID:wso6ttnz) before initializing another..."
      ],
      "text/plain": [
       "<IPython.core.display.HTML object>"
      ]
     },
     "metadata": {},
     "output_type": "display_data"
    },
    {
     "data": {
      "text/html": [
       "<style>\n",
       "    table.wandb td:nth-child(1) { padding: 0 10px; text-align: left ; width: auto;} td:nth-child(2) {text-align: left ; width: 100%}\n",
       "    .wandb-row { display: flex; flex-direction: row; flex-wrap: wrap; justify-content: flex-start; width: 100% }\n",
       "    .wandb-col { display: flex; flex-direction: column; flex-basis: 100%; flex: 1; padding: 10px; }\n",
       "    </style>\n",
       "<div class=\"wandb-row\"><div class=\"wandb-col\"><h3>Run history:</h3><br/><table class=\"wandb\"><tr><td>average_loss</td><td>████▇▇▇▇▆▆▅▅▄▃▂▂▁▁▁▁▁▁▁▁▁▁▁▁▁▁▁▁▁▁▁▁▁▁▁▁</td></tr><tr><td>average_validation_loss</td><td>████▇▇▇▇▆▆▅▅▄▃▃▂▁▁▁▁▁▁▁▁▁▁▁▁▁▁▁▁▁▁▁▁▁▁▁▁</td></tr><tr><td>loss</td><td>████▇▇▇▇▆▆▅▅▄▃▂▂▁▁▁▁▁▁▁▁▁▁▁▁▁▁▁▁▁▁▁▁▁▁▁▁</td></tr><tr><td>validation_loss</td><td>████▇▇▇▇▆▆▅▅▄▃▃▂▁▁▁▁▁▁▁▁▁▁▁▁▁▁▁▁▁▁▁▁▁▁▁▁</td></tr></table><br/></div><div class=\"wandb-col\"><h3>Run summary:</h3><br/><table class=\"wandb\"><tr><td>average_loss</td><td>2486429.30838</td></tr><tr><td>average_validation_loss</td><td>8926810.07936</td></tr><tr><td>loss</td><td>606688751.24403</td></tr><tr><td>validation_loss</td><td>267804302.38086</td></tr></table><br/></div></div>"
      ],
      "text/plain": [
       "<IPython.core.display.HTML object>"
      ]
     },
     "metadata": {},
     "output_type": "display_data"
    },
    {
     "data": {
      "text/html": [
       " View run <strong style=\"color:#cdcd00\">visionary-haze-45</strong> at: <a href='https://wandb.ai/rogerline0527-national-tsing-hua-university/transformer/runs/wso6ttnz' target=\"_blank\">https://wandb.ai/rogerline0527-national-tsing-hua-university/transformer/runs/wso6ttnz</a><br/> View project at: <a href='https://wandb.ai/rogerline0527-national-tsing-hua-university/transformer' target=\"_blank\">https://wandb.ai/rogerline0527-national-tsing-hua-university/transformer</a><br/>Synced 5 W&B file(s), 0 media file(s), 0 artifact file(s) and 0 other file(s)"
      ],
      "text/plain": [
       "<IPython.core.display.HTML object>"
      ]
     },
     "metadata": {},
     "output_type": "display_data"
    },
    {
     "data": {
      "text/html": [
       "Find logs at: <code>.\\wandb\\run-20240830_160746-wso6ttnz\\logs</code>"
      ],
      "text/plain": [
       "<IPython.core.display.HTML object>"
      ]
     },
     "metadata": {},
     "output_type": "display_data"
    },
    {
     "data": {
      "text/html": [
       "The new W&B backend becomes opt-out in version 0.18.0; try it out with `wandb.require(\"core\")`! See https://wandb.me/wandb-core for more information."
      ],
      "text/plain": [
       "<IPython.core.display.HTML object>"
      ]
     },
     "metadata": {},
     "output_type": "display_data"
    },
    {
     "data": {
      "text/html": [
       "Successfully finished last run (ID:wso6ttnz). Initializing new run:<br/>"
      ],
      "text/plain": [
       "<IPython.core.display.HTML object>"
      ]
     },
     "metadata": {},
     "output_type": "display_data"
    },
    {
     "data": {
      "text/html": [
       "wandb version 0.17.8 is available!  To upgrade, please run:\n",
       " $ pip install wandb --upgrade"
      ],
      "text/plain": [
       "<IPython.core.display.HTML object>"
      ]
     },
     "metadata": {},
     "output_type": "display_data"
    },
    {
     "data": {
      "text/html": [
       "Tracking run with wandb version 0.17.7"
      ],
      "text/plain": [
       "<IPython.core.display.HTML object>"
      ]
     },
     "metadata": {},
     "output_type": "display_data"
    },
    {
     "data": {
      "text/html": [
       "Run data is saved locally in <code>d:\\vscode\\python\\senior project\\wandb\\run-20240830_161604-nsem3bnm</code>"
      ],
      "text/plain": [
       "<IPython.core.display.HTML object>"
      ]
     },
     "metadata": {},
     "output_type": "display_data"
    },
    {
     "data": {
      "text/html": [
       "Syncing run <strong><a href='https://wandb.ai/rogerline0527-national-tsing-hua-university/transformer/runs/nsem3bnm' target=\"_blank\">happy-paper-46</a></strong> to <a href='https://wandb.ai/rogerline0527-national-tsing-hua-university/transformer' target=\"_blank\">Weights & Biases</a> (<a href='https://wandb.me/run' target=\"_blank\">docs</a>)<br/>"
      ],
      "text/plain": [
       "<IPython.core.display.HTML object>"
      ]
     },
     "metadata": {},
     "output_type": "display_data"
    },
    {
     "data": {
      "text/html": [
       " View project at <a href='https://wandb.ai/rogerline0527-national-tsing-hua-university/transformer' target=\"_blank\">https://wandb.ai/rogerline0527-national-tsing-hua-university/transformer</a>"
      ],
      "text/plain": [
       "<IPython.core.display.HTML object>"
      ]
     },
     "metadata": {},
     "output_type": "display_data"
    },
    {
     "data": {
      "text/html": [
       " View run at <a href='https://wandb.ai/rogerline0527-national-tsing-hua-university/transformer/runs/nsem3bnm' target=\"_blank\">https://wandb.ai/rogerline0527-national-tsing-hua-university/transformer/runs/nsem3bnm</a>"
      ],
      "text/plain": [
       "<IPython.core.display.HTML object>"
      ]
     },
     "metadata": {},
     "output_type": "display_data"
    },
    {
     "data": {
      "text/html": [
       "<button onClick=\"this.nextSibling.style.display='block';this.style.display='none';\">Display W&B run</button><iframe src='https://wandb.ai/rogerline0527-national-tsing-hua-university/transformer/runs/nsem3bnm?jupyter=true' style='border:none;width:100%;height:420px;display:none;'></iframe>"
      ],
      "text/plain": [
       "<wandb.sdk.wandb_run.Run at 0x1506b68f990>"
      ]
     },
     "execution_count": 655,
     "metadata": {},
     "output_type": "execute_result"
    }
   ],
   "source": [
    "wandb.init(\n",
    "    project = \"transformer\",\n",
    "\n",
    "    config = {\n",
    "        \"architecture\": \"transformer\",\n",
    "        \"dataset\": \"TXF and TSMC\",\n",
    "        \"Kbar_timeunit\": \"15min\",\n",
    "        \"LOSS_FUNC\": \"MSE\",\n",
    "        \"OPTIMIZER\": \"adam\",\n",
    "\n",
    "        \"SEQ_LEN\": SEQ_LEN,\n",
    "        \"BATCH_SIZE\": BATCH_SIZE,\n",
    "        \"EPOCHS\": EPOCHS,\n",
    "        \"D_MODEL\": D_MODEL,\n",
    "        \"NUM_HEADS\": NUM_HEADS,\n",
    "        \"NUM_ENCODER_LAYERS\": NUM_ENCODER_LAYERS,\n",
    "        \"DROPOUT_RATE\": DROPOUT_RATE,\n",
    "        \"LEANING_RATE\": LEARNING_RATE,\n",
    "\n",
    "        \"MIN_LATER\": MIN_LATER,\n",
    "\n",
    "        \"EPSILON\": 1e-8,\n",
    "        \"BETA\": (0.9, 0.98),\n",
    "        \"WEIGHT_DECAY\": 0.02,\n",
    "    }\n",
    ")"
   ]
  },
  {
   "cell_type": "markdown",
   "metadata": {},
   "source": [
    "### Plot function"
   ]
  },
  {
   "cell_type": "code",
   "execution_count": 656,
   "metadata": {},
   "outputs": [],
   "source": [
    "def draw_plot(x_data: pd.DataFrame, y_data: pd.DataFrame, x_label: str, y_label: str) -> None:\n",
    "    fig = plt.figure(figsize=(7, 4))\n",
    "    plt.scatter(x_data, y_data, s = 1)\n",
    "    plt.xlabel(x_label)\n",
    "    plt.ylabel(y_label)\n",
    "    plt.show()"
   ]
  },
  {
   "cell_type": "markdown",
   "metadata": {},
   "source": [
    "### Indicators function"
   ]
  },
  {
   "cell_type": "code",
   "execution_count": 657,
   "metadata": {},
   "outputs": [],
   "source": [
    "def keltner_bands(close: np.ndarray, high: np.ndarray, low: np.ndarray, period: int, multiplier: int) -> tuple:\n",
    "    mid = ta.EMA(close, timeperiod = period)\n",
    "    mid = np.nan_to_num(mid, nan = mid[period - 1])\n",
    "    kelt_trange = np.array([])\n",
    "\n",
    "    for i in tqdm(range(1, len(close)), desc = \"Calculating kelner bands \"):\n",
    "        tem_trange = max(\n",
    "            high[-i] - low[-i],\n",
    "            abs(high[-i] - close[-i - 1]),\n",
    "            abs(low[-i] - close[-i - 1])\n",
    "        )\n",
    "        kelt_trange = np.append(tem_trange, kelt_trange)\n",
    "    kelt_trange = np.append(high[0] - low[0], kelt_trange)\n",
    "    atr = ta.EMA(kelt_trange, timeperiod = period)\n",
    "    atr = np.nan_to_num(atr, nan = atr[period - 1])\n",
    "    upper = mid + atr * multiplier\n",
    "    lower = mid - atr * multiplier\n",
    "\n",
    "    return upper, mid, lower"
   ]
  },
  {
   "cell_type": "code",
   "execution_count": 658,
   "metadata": {},
   "outputs": [],
   "source": [
    "def KDJ(high: np.ndarray, low: np.ndarray, close: np.ndarray, period: int, signal_k: int, signal_d: int) -> tuple:\n",
    "    _alpha_k = 2 / (signal_k + 1)\n",
    "    _alpha_d = 2 / (signal_d + 1)\n",
    "\n",
    "    lowest = ta.MIN(low, timeperiod = period)\n",
    "    lowest = np.nan_to_num(lowest, nan = lowest[period - 1])\n",
    "    highest = ta.MAX(high, timeperiod = period)\n",
    "    highest = np.nan_to_num(highest, nan = highest[period - 1])\n",
    "\n",
    "    rsv = (close - lowest) / (highest - lowest) * 100\n",
    "    \n",
    "    K = np.array([50])\n",
    "    D = np.array([50])\n",
    "    J = np.array([50])\n",
    "    \n",
    "    for i in tqdm(range(1, len(close)), desc = \"Calculating KDJ \"):\n",
    "        K = np.append(K, int(_alpha_k * ((K[-1] + 2 * rsv[i]) / 3) + (1 - _alpha_k) * K[-1] + 0.5))\n",
    "        D = np.append(D,  int(_alpha_d * ((D[-1] + 2 * K[-1]) / 3) + (1 - _alpha_d) * D[-1] + 0.5))\n",
    "        J = np.append(J, 3 * K[-1] - 2 * D[-1])\n",
    "\n",
    "    return K, D, J"
   ]
  },
  {
   "cell_type": "markdown",
   "metadata": {},
   "source": [
    "## Data preprocess"
   ]
  },
  {
   "cell_type": "markdown",
   "metadata": {},
   "source": [
    "### Load data and split into train/test set"
   ]
  },
  {
   "cell_type": "code",
   "execution_count": 659,
   "metadata": {},
   "outputs": [],
   "source": [
    "TXF_path = 'data/TXFR1_1min.csv'\n",
    "TSMC_path = 'data/2330_1min.csv'\n",
    "\n",
    "TXF = pd.read_csv(TXF_path)\n",
    "TSMC = pd.read_csv(TSMC_path)\n",
    "\n",
    "TXF.index = pd.to_datetime(TXF.ts)\n",
    "TSMC.index = pd.to_datetime(TSMC.ts)\n",
    "\n",
    "## Align the index of two dataframes\n",
    "common_index = TXF.index.intersection(TSMC.index)\n",
    "\n",
    "TXF = TXF.loc[common_index]\n",
    "TSMC = TSMC.loc[common_index]"
   ]
  },
  {
   "cell_type": "code",
   "execution_count": 660,
   "metadata": {},
   "outputs": [
    {
     "data": {
      "text/html": [
       "<div>\n",
       "<style scoped>\n",
       "    .dataframe tbody tr th:only-of-type {\n",
       "        vertical-align: middle;\n",
       "    }\n",
       "\n",
       "    .dataframe tbody tr th {\n",
       "        vertical-align: top;\n",
       "    }\n",
       "\n",
       "    .dataframe thead th {\n",
       "        text-align: right;\n",
       "    }\n",
       "</style>\n",
       "<table border=\"1\" class=\"dataframe\">\n",
       "  <thead>\n",
       "    <tr style=\"text-align: right;\">\n",
       "      <th></th>\n",
       "      <th>ts</th>\n",
       "      <th>Open</th>\n",
       "      <th>High</th>\n",
       "      <th>Low</th>\n",
       "      <th>Close</th>\n",
       "      <th>Volume</th>\n",
       "      <th>Amount</th>\n",
       "    </tr>\n",
       "    <tr>\n",
       "      <th>ts</th>\n",
       "      <th></th>\n",
       "      <th></th>\n",
       "      <th></th>\n",
       "      <th></th>\n",
       "      <th></th>\n",
       "      <th></th>\n",
       "      <th></th>\n",
       "    </tr>\n",
       "  </thead>\n",
       "  <tbody>\n",
       "    <tr>\n",
       "      <th>2020-03-02 09:01:00</th>\n",
       "      <td>2020-03-02 09:01:00</td>\n",
       "      <td>11068.0</td>\n",
       "      <td>11084.0</td>\n",
       "      <td>11041.0</td>\n",
       "      <td>11044.0</td>\n",
       "      <td>2368</td>\n",
       "      <td>26207768.0</td>\n",
       "    </tr>\n",
       "    <tr>\n",
       "      <th>2020-03-02 09:02:00</th>\n",
       "      <td>2020-03-02 09:02:00</td>\n",
       "      <td>11042.0</td>\n",
       "      <td>11064.0</td>\n",
       "      <td>11040.0</td>\n",
       "      <td>11060.0</td>\n",
       "      <td>2242</td>\n",
       "      <td>24784906.0</td>\n",
       "    </tr>\n",
       "    <tr>\n",
       "      <th>2020-03-02 09:03:00</th>\n",
       "      <td>2020-03-02 09:03:00</td>\n",
       "      <td>11061.0</td>\n",
       "      <td>11095.0</td>\n",
       "      <td>11060.0</td>\n",
       "      <td>11086.0</td>\n",
       "      <td>2017</td>\n",
       "      <td>22350722.0</td>\n",
       "    </tr>\n",
       "    <tr>\n",
       "      <th>2020-03-02 09:04:00</th>\n",
       "      <td>2020-03-02 09:04:00</td>\n",
       "      <td>11086.0</td>\n",
       "      <td>11092.0</td>\n",
       "      <td>11071.0</td>\n",
       "      <td>11078.0</td>\n",
       "      <td>1490</td>\n",
       "      <td>16512119.0</td>\n",
       "    </tr>\n",
       "    <tr>\n",
       "      <th>2020-03-02 09:05:00</th>\n",
       "      <td>2020-03-02 09:05:00</td>\n",
       "      <td>11078.0</td>\n",
       "      <td>11086.0</td>\n",
       "      <td>11068.0</td>\n",
       "      <td>11071.0</td>\n",
       "      <td>912</td>\n",
       "      <td>10101762.0</td>\n",
       "    </tr>\n",
       "  </tbody>\n",
       "</table>\n",
       "</div>"
      ],
      "text/plain": [
       "                                      ts     Open     High      Low    Close  \\\n",
       "ts                                                                             \n",
       "2020-03-02 09:01:00  2020-03-02 09:01:00  11068.0  11084.0  11041.0  11044.0   \n",
       "2020-03-02 09:02:00  2020-03-02 09:02:00  11042.0  11064.0  11040.0  11060.0   \n",
       "2020-03-02 09:03:00  2020-03-02 09:03:00  11061.0  11095.0  11060.0  11086.0   \n",
       "2020-03-02 09:04:00  2020-03-02 09:04:00  11086.0  11092.0  11071.0  11078.0   \n",
       "2020-03-02 09:05:00  2020-03-02 09:05:00  11078.0  11086.0  11068.0  11071.0   \n",
       "\n",
       "                     Volume      Amount  \n",
       "ts                                       \n",
       "2020-03-02 09:01:00    2368  26207768.0  \n",
       "2020-03-02 09:02:00    2242  24784906.0  \n",
       "2020-03-02 09:03:00    2017  22350722.0  \n",
       "2020-03-02 09:04:00    1490  16512119.0  \n",
       "2020-03-02 09:05:00     912  10101762.0  "
      ]
     },
     "execution_count": 660,
     "metadata": {},
     "output_type": "execute_result"
    }
   ],
   "source": [
    "TXF.head()"
   ]
  },
  {
   "cell_type": "code",
   "execution_count": 661,
   "metadata": {},
   "outputs": [
    {
     "data": {
      "text/html": [
       "<div>\n",
       "<style scoped>\n",
       "    .dataframe tbody tr th:only-of-type {\n",
       "        vertical-align: middle;\n",
       "    }\n",
       "\n",
       "    .dataframe tbody tr th {\n",
       "        vertical-align: top;\n",
       "    }\n",
       "\n",
       "    .dataframe thead th {\n",
       "        text-align: right;\n",
       "    }\n",
       "</style>\n",
       "<table border=\"1\" class=\"dataframe\">\n",
       "  <thead>\n",
       "    <tr style=\"text-align: right;\">\n",
       "      <th></th>\n",
       "      <th>ts</th>\n",
       "      <th>Open</th>\n",
       "      <th>High</th>\n",
       "      <th>Low</th>\n",
       "      <th>Close</th>\n",
       "      <th>Volume</th>\n",
       "      <th>Amount</th>\n",
       "    </tr>\n",
       "    <tr>\n",
       "      <th>ts</th>\n",
       "      <th></th>\n",
       "      <th></th>\n",
       "      <th></th>\n",
       "      <th></th>\n",
       "      <th></th>\n",
       "      <th></th>\n",
       "      <th></th>\n",
       "    </tr>\n",
       "  </thead>\n",
       "  <tbody>\n",
       "    <tr>\n",
       "      <th>2020-03-02 09:01:00</th>\n",
       "      <td>2020-03-02 09:01:00</td>\n",
       "      <td>308.0</td>\n",
       "      <td>308.5</td>\n",
       "      <td>308.0</td>\n",
       "      <td>308.5</td>\n",
       "      <td>12311</td>\n",
       "      <td>3.792677e+09</td>\n",
       "    </tr>\n",
       "    <tr>\n",
       "      <th>2020-03-02 09:02:00</th>\n",
       "      <td>2020-03-02 09:02:00</td>\n",
       "      <td>308.5</td>\n",
       "      <td>308.5</td>\n",
       "      <td>308.5</td>\n",
       "      <td>308.5</td>\n",
       "      <td>773</td>\n",
       "      <td>2.384705e+08</td>\n",
       "    </tr>\n",
       "    <tr>\n",
       "      <th>2020-03-02 09:03:00</th>\n",
       "      <td>2020-03-02 09:03:00</td>\n",
       "      <td>308.5</td>\n",
       "      <td>309.0</td>\n",
       "      <td>308.5</td>\n",
       "      <td>308.5</td>\n",
       "      <td>642</td>\n",
       "      <td>1.981785e+08</td>\n",
       "    </tr>\n",
       "    <tr>\n",
       "      <th>2020-03-02 09:04:00</th>\n",
       "      <td>2020-03-02 09:04:00</td>\n",
       "      <td>309.0</td>\n",
       "      <td>309.0</td>\n",
       "      <td>308.5</td>\n",
       "      <td>309.0</td>\n",
       "      <td>600</td>\n",
       "      <td>1.853700e+08</td>\n",
       "    </tr>\n",
       "    <tr>\n",
       "      <th>2020-03-02 09:05:00</th>\n",
       "      <td>2020-03-02 09:05:00</td>\n",
       "      <td>309.0</td>\n",
       "      <td>309.0</td>\n",
       "      <td>309.0</td>\n",
       "      <td>309.0</td>\n",
       "      <td>1079</td>\n",
       "      <td>3.334110e+08</td>\n",
       "    </tr>\n",
       "  </tbody>\n",
       "</table>\n",
       "</div>"
      ],
      "text/plain": [
       "                                      ts   Open   High    Low  Close  Volume  \\\n",
       "ts                                                                             \n",
       "2020-03-02 09:01:00  2020-03-02 09:01:00  308.0  308.5  308.0  308.5   12311   \n",
       "2020-03-02 09:02:00  2020-03-02 09:02:00  308.5  308.5  308.5  308.5     773   \n",
       "2020-03-02 09:03:00  2020-03-02 09:03:00  308.5  309.0  308.5  308.5     642   \n",
       "2020-03-02 09:04:00  2020-03-02 09:04:00  309.0  309.0  308.5  309.0     600   \n",
       "2020-03-02 09:05:00  2020-03-02 09:05:00  309.0  309.0  309.0  309.0    1079   \n",
       "\n",
       "                           Amount  \n",
       "ts                                 \n",
       "2020-03-02 09:01:00  3.792677e+09  \n",
       "2020-03-02 09:02:00  2.384705e+08  \n",
       "2020-03-02 09:03:00  1.981785e+08  \n",
       "2020-03-02 09:04:00  1.853700e+08  \n",
       "2020-03-02 09:05:00  3.334110e+08  "
      ]
     },
     "execution_count": 661,
     "metadata": {},
     "output_type": "execute_result"
    }
   ],
   "source": [
    "TSMC.head()"
   ]
  },
  {
   "cell_type": "code",
   "execution_count": 662,
   "metadata": {},
   "outputs": [
    {
     "name": "stdout",
     "output_type": "stream",
     "text": [
      "TXF shape: (289748, 7)\n",
      "CDF shape: (289748, 7)\n"
     ]
    }
   ],
   "source": [
    "print(f'TXF shape: {TXF.shape}')\n",
    "print(f'CDF shape: {TSMC.shape}')"
   ]
  },
  {
   "cell_type": "code",
   "execution_count": 663,
   "metadata": {},
   "outputs": [
    {
     "name": "stdout",
     "output_type": "stream",
     "text": [
      "train size: 231798\n",
      "valid size: 28975\n",
      "test size: 28975\n"
     ]
    }
   ],
   "source": [
    "## Split the data into training, validating and testing set by 8:1:1\n",
    "TXF_train = TXF.iloc[ : int(TXF.shape[0] * 0.8)]\n",
    "TXF_valid = TXF.iloc[int(TXF.shape[0] * 0.8) : int(TXF.shape[0] * 0.9)]\n",
    "TXF_test = TXF.iloc[int(TXF.shape[0] * 0.9) : ]\n",
    "\n",
    "TSMC_train = TSMC.iloc[ : int(TSMC.shape[0] * 0.8)]\n",
    "TSMC_valid = TSMC.iloc[int(TSMC.shape[0] * 0.8) : int(TSMC.shape[0] * 0.9)]\n",
    "TSMC_test = TSMC.iloc[int(TSMC.shape[0] * 0.9) : ]\n",
    "\n",
    "print(f'train size: {TXF_train.shape[0]}')\n",
    "print(f'valid size: {TXF_valid.shape[0]}')\n",
    "print(f'test size: {TXF_test.shape[0]}')"
   ]
  },
  {
   "cell_type": "code",
   "execution_count": 664,
   "metadata": {},
   "outputs": [
    {
     "data": {
      "image/png": "[encoded data removed]",
      "text/plain": [
       "<Figure size 700x400 with 1 Axes>"
      ]
     },
     "metadata": {},
     "output_type": "display_data"
    },
    {
     "data": {
      "image/png": "[encoded data removed]",
      "text/plain": [
       "<Figure size 700x400 with 1 Axes>"
      ]
     },
     "metadata": {},
     "output_type": "display_data"
    }
   ],
   "source": [
    "draw_plot(TXF_train.index, TXF_train.Close, 'TXF Close', 'Time')\n",
    "draw_plot(TSMC_train.index, TSMC_train.Close, 'TSMC Close', 'Time')"
   ]
  },
  {
   "cell_type": "markdown",
   "metadata": {},
   "source": [
    "### Dataset and DataLoader"
   ]
  },
  {
   "cell_type": "code",
   "execution_count": 665,
   "metadata": {},
   "outputs": [
    {
     "name": "stderr",
     "output_type": "stream",
     "text": [
      "Calculating kelner bands : 100%|██████████| 231797/231797 [00:51<00:00, 4536.16it/s] \n",
      "Calculating KDJ : 100%|██████████| 231797/231797 [00:15<00:00, 14603.98it/s]\n",
      "Calculating kelner bands : 100%|██████████| 28974/28974 [00:00<00:00, 158996.67it/s]\n",
      "Calculating KDJ : 100%|██████████| 28974/28974 [00:00<00:00, 61435.07it/s]\n",
      "Calculating kelner bands : 100%|██████████| 28974/28974 [00:00<00:00, 148440.56it/s]\n",
      "Calculating KDJ : 100%|██████████| 28974/28974 [00:00<00:00, 56952.48it/s]\n"
     ]
    }
   ],
   "source": [
    "## Dataset and DataLoader\n",
    "class custom_dataset(torch.utils.data.Dataset):\n",
    "    def __init__(self, TXF, TSMC):\n",
    "        self.TXF = torch.cat((\n",
    "            torch.unsqueeze(torch.tensor(TXF.Open.values), 1),\n",
    "            torch.unsqueeze(torch.tensor(TXF.High.values), 1),\n",
    "            torch.unsqueeze(torch.tensor(TXF.Low.values), 1),\n",
    "            torch.unsqueeze(torch.tensor(TXF.Close.values), 1),\n",
    "            torch.unsqueeze(torch.tensor(TXF.Volume.values), 1)\n",
    "        ), 1)\n",
    "        self.TSMC = torch.unsqueeze(torch.tensor(TSMC.Close.values), 1)\n",
    "        # print(self.TXF.shape)\n",
    "        # print(self.TSMC.shape)\n",
    "\n",
    "        self.TXF_close = torch.unsqueeze(torch.tensor(TXF.Close.values), 1).double()\n",
    "        # print(self.TXF_close.shape)\n",
    "\n",
    "        self.data_len = self.TXF.shape[0]\n",
    "\n",
    "        self.sma_short = ta.SMA(TXF.Close, timeperiod = 3)\n",
    "        self.sma_short = torch.tensor(np.nan_to_num(self.sma_short, nan = self.sma_short.iloc[2]))\n",
    "        self.sma_short = torch.unsqueeze(self.sma_short, 1)\n",
    "\n",
    "        self.sma_long = ta.SMA(TXF.Close, timeperiod = 9)\n",
    "        self.sma_long = torch.tensor(np.nan_to_num(self.sma_long, nan = self.sma_long.iloc[8]))\n",
    "        self.sma_long = torch.unsqueeze(self.sma_long, 1)\n",
    "\n",
    "        self.adosc = ta.ADOSC(TXF.High, TXF.Low, TXF.Close, TXF.Volume, fastperiod = 6, slowperiod = 15)\n",
    "        self.adosc = torch.tensor(np.nan_to_num(self.adosc, nan = self.adosc.iloc[14]))\n",
    "        self.adosc = torch.unsqueeze(self.adosc, 1)\n",
    "\n",
    "        self.bband_upper, self.bband_middle, self.bband_lower = ta.BBANDS(TXF.Close, timeperiod = 20, nbdevup = 2, nbdevdn = 2)\n",
    "        self.bband_upper = torch.tensor(np.nan_to_num(self.bband_upper, nan = self.bband_upper.iloc[19]))\n",
    "        self.bband_upper = torch.unsqueeze(self.bband_upper, 1)\n",
    "\n",
    "        self.bband_middle = torch.tensor(np.nan_to_num(self.bband_middle, nan = self.bband_middle.iloc[19]))\n",
    "        self.bband_middle = torch.unsqueeze(self.bband_middle, 1)\n",
    "\n",
    "        self.bband_lower = torch.tensor(np.nan_to_num(self.bband_lower, nan = self.bband_lower.iloc[19]))\n",
    "        self.bband_lower = torch.unsqueeze(self.bband_lower, 1)\n",
    "\n",
    "        self.keltner_upper, self.keltner_middle, self.keltner_lower = keltner_bands(\n",
    "            TXF.Close.values, TXF.High.values, TXF.Low.values, \n",
    "            20, 1.5\n",
    "        )\n",
    "        self.keltner_upper = torch.tensor(self.keltner_upper)\n",
    "        self.keltner_upper = torch.unsqueeze(self.keltner_upper, 1)\n",
    "\n",
    "        self.keltner_middle = torch.tensor(self.keltner_middle)\n",
    "        self.keltner_middle = torch.unsqueeze(self.keltner_middle, 1)\n",
    "\n",
    "        self.keltner_lower = torch.tensor(self.keltner_lower)\n",
    "        self.keltner_lower = torch.unsqueeze(self.keltner_lower, 1)\n",
    "\n",
    "        self.K, self.D, self.J = KDJ(TXF.High.values, TXF.Low.values, TXF.Close.values, 25, 3, 3)\n",
    "        self.K = torch.tensor(self.K)\n",
    "        self.K = torch.unsqueeze(self.K, 1)\n",
    "\n",
    "        self.D = torch.tensor(self.D)\n",
    "        self.D = torch.unsqueeze(self.D, 1)\n",
    "\n",
    "        self.J = torch.tensor(self.J)\n",
    "        self.J = torch.unsqueeze(self.J, 1)\n",
    "\n",
    "    def __len__(self):\n",
    "        return self.data_len - (SEQ_LEN + MIN_LATER + 1) - 1\n",
    "    \n",
    "    def __getitem__(self, idx):\n",
    "        x_data = torch.cat((\n",
    "            self.TXF[idx : idx + SEQ_LEN],\n",
    "            self.TSMC[idx : idx + SEQ_LEN],\n",
    "            self.sma_short[idx : idx + SEQ_LEN],\n",
    "            self.sma_long[idx : idx + SEQ_LEN],\n",
    "            self.adosc[idx : idx + SEQ_LEN],\n",
    "            self.bband_upper[idx : idx + SEQ_LEN],\n",
    "            self.bband_middle[idx : idx + SEQ_LEN],\n",
    "            self.bband_lower[idx : idx + SEQ_LEN],\n",
    "            self.keltner_upper[idx : idx + SEQ_LEN],\n",
    "            self.keltner_middle[idx : idx + SEQ_LEN],\n",
    "            self.keltner_lower[idx : idx + SEQ_LEN],\n",
    "            self.K[idx : idx + SEQ_LEN],\n",
    "            self.D[idx : idx + SEQ_LEN],\n",
    "            self.J[idx : idx + SEQ_LEN]\n",
    "        ), 1)\n",
    "\n",
    "        y_data = self.TXF_close[idx + SEQ_LEN + MIN_LATER + 1]\n",
    "\n",
    "        return x_data, y_data\n",
    "    \n",
    "train_dataset = custom_dataset(TXF_train, TSMC_train)\n",
    "train_dataloader = torch.utils.data.DataLoader(train_dataset, batch_size = BATCH_SIZE, shuffle = True, pin_memory = True, drop_last = True)\n",
    "\n",
    "valid_dataset = custom_dataset(TXF_valid, TSMC_valid)\n",
    "valid_dataloader = torch.utils.data.DataLoader(valid_dataset, batch_size = BATCH_SIZE, shuffle = True, pin_memory = True, drop_last = True)\n",
    "\n",
    "test_dataset = custom_dataset(TXF_test, TSMC_test)\n",
    "test_dataloader = torch.utils.data.DataLoader(test_dataset, batch_size = BATCH_SIZE, shuffle = True, pin_memory = True, drop_last = True)"
   ]
  },
  {
   "cell_type": "code",
   "execution_count": 666,
   "metadata": {},
   "outputs": [
    {
     "name": "stdout",
     "output_type": "stream",
     "text": [
      "In every data: \n",
      "\tx_data shape: torch.Size([32, 18])\n",
      "\ty_data shape: torch.Size([1])\n",
      "\n",
      "Which means we use the past [32] minutes data to predict the price in [1] minutes later\n"
     ]
    }
   ],
   "source": [
    "test = iter(torch.utils.data.DataLoader(train_dataset, batch_size = BATCH_SIZE, shuffle = False))\n",
    "test_x, test_y = next(test)\n",
    "FEATURE_NUM = test_x.shape[2]\n",
    "\n",
    "print(f'In every data: ')\n",
    "print(f'\\tx_data shape: {test_x[0].shape}')\n",
    "print(f'\\ty_data shape: {test_y[0].shape}\\n')\n",
    "print(f'Which means we use the past [{SEQ_LEN}] minutes data to predict the price in [{MIN_LATER}] minutes later')"
   ]
  },
  {
   "cell_type": "code",
   "execution_count": 667,
   "metadata": {},
   "outputs": [
    {
     "name": "stdout",
     "output_type": "stream",
     "text": [
      "torch.Size([64, 32, 18])\n",
      "torch.Size([64, 1])\n"
     ]
    }
   ],
   "source": [
    "print(test_x.shape)\n",
    "print(test_y.shape)"
   ]
  },
  {
   "cell_type": "markdown",
   "metadata": {},
   "source": [
    "## Model"
   ]
  },
  {
   "cell_type": "markdown",
   "metadata": {},
   "source": [
    "### Model implementation"
   ]
  },
  {
   "cell_type": "markdown",
   "metadata": {},
   "source": [
    "#### Position embedding layer"
   ]
  },
  {
   "cell_type": "code",
   "execution_count": 668,
   "metadata": {},
   "outputs": [],
   "source": [
    "class PositionEmbedding(torch.nn.Module):\n",
    "    def __init__(self, d_model: int) -> None:\n",
    "        super(PositionEmbedding, self).__init__()\n",
    "        self.linear = torch.nn.Linear(FEATURE_NUM, d_model, dtype = torch.double)\n",
    "\n",
    "        # Create a matrix of shape (max_len, feature_num)\n",
    "        pe = torch.zeros(SEQ_LEN, d_model)\n",
    "        position = torch.arange(0, SEQ_LEN, dtype=torch.float).unsqueeze(1)\n",
    "        div_term = torch.exp(torch.arange(0, d_model, 2).float() * (-math.log(10000.0) / d_model))\n",
    "        \n",
    "        pe[:, 0::2] = torch.sin(position * div_term)\n",
    "        pe[:, 1::2] = torch.cos(position * div_term)\n",
    "        \n",
    "        pe = pe.unsqueeze(0)  # Add a batch dimension\n",
    "        self.register_buffer('pe', pe)\n",
    "\n",
    "    def forward(self, x):\n",
    "        x = self.linear(x)\n",
    "        x = x + self.pe[:, :x.size(1)]\n",
    "        return x"
   ]
  },
  {
   "cell_type": "markdown",
   "metadata": {},
   "source": [
    "#### Multi-head attention layer"
   ]
  },
  {
   "cell_type": "code",
   "execution_count": 669,
   "metadata": {},
   "outputs": [],
   "source": [
    "class MultiHeadAttention(torch.nn.Module):\n",
    "    def __init__(self, d_model: int, num_heads: int) -> None:\n",
    "        super(MultiHeadAttention, self).__init__()\n",
    "        \n",
    "        # d_model should be divisible by num_heads\n",
    "        assert d_model % num_heads == 0\n",
    "        \n",
    "        self.d_model = d_model\n",
    "        self.num_heads = num_heads\n",
    "        self.d_k = d_model // num_heads\n",
    "\n",
    "        self.V_linear = torch.nn.Linear(d_model, d_model, dtype = torch.double)\n",
    "        self.K_linear = torch.nn.Linear(d_model, d_model, dtype = torch.double)\n",
    "        self.Q_linear = torch.nn.Linear(d_model, d_model, dtype = torch.double)\n",
    "        self.output_linear = torch.nn.Linear(d_model, d_model, dtype = torch.double)\n",
    "\n",
    "    def scaled_dot_product_attention(self, Q: torch.tensor, K: torch.tensor, V: torch.tensor) -> torch.tensor:\n",
    "        # Q, V: [batch_size, num_heads, seq_len, d_k]\n",
    "        # K: [batch_size, num_heads, seq_len, d_k] -> K: [batch_size, num_heads, d_k, seq_len]\n",
    "        # attention: [batch_size, num_heads, seq_len, seq_len]\n",
    "        attention = torch.matmul(Q, K.transpose(-2, -1)) / torch.sqrt(torch.tensor(self.d_k).float())\n",
    "\n",
    "        # attention_prob: [batch_size, num_heads, seq_len, seq_len]\n",
    "        # It satisfies the sum of the last dimension is 1\n",
    "        # For example, assume the result of this softmax is a\n",
    "        # then a[0][0][0][0] + a[0][0][0][1] + ... + a[0][0][0][seq_len - 1] = 1\n",
    "        attention_prob = torch.nn.functional.softmax(attention, dim = -1)\n",
    "        output = torch.matmul(attention_prob, V)\n",
    "        return output\n",
    "    \n",
    "    def split_heads(self, x: torch.tensor) -> torch.tensor:\n",
    "        batch_size, seq_len, d_model = x.size()\n",
    "\n",
    "        # x: [batch_size, seq_len, d_model] -> x: [batch_size, num_heads, seq_len, d_k]\n",
    "        x = x.view(batch_size, seq_len, self.num_heads, self.d_k).transpose(1, 2)\n",
    "        return x\n",
    "    \n",
    "    def concat_heads(self, x: torch.tensor) -> torch.tensor:\n",
    "        batch_size, _, seq_len, d_k = x.size()\n",
    "\n",
    "        # x: [batch_size, num_heads, seq_len, d_k] -> x: [batch_size, seq_len, d_model]\n",
    "        x = x.transpose(1, 2).contiguous().view(batch_size, seq_len, self.d_model)\n",
    "        return x\n",
    "    \n",
    "    def forward(self, Q: torch.tensor, K: torch.tensor, V: torch.tensor) -> torch.tensor:\n",
    "        Q = self.split_heads(self.Q_linear(Q))\n",
    "        K = self.split_heads(self.K_linear(K))\n",
    "        V = self.split_heads(self.V_linear(V))\n",
    "        # print(\"-> Split head succeeded!\")\n",
    "\n",
    "        attention_output = self.scaled_dot_product_attention(Q, K, V)\n",
    "        # print(\"-> Scaled dot product attention succeeded!\")\n",
    "\n",
    "        output = self.output_linear(self.concat_heads(attention_output))\n",
    "        # print(\"-> Concat head succeeded!\")\n",
    "        \n",
    "        return output"
   ]
  },
  {
   "cell_type": "markdown",
   "metadata": {},
   "source": [
    "#### Feed forward layer"
   ]
  },
  {
   "cell_type": "code",
   "execution_count": 670,
   "metadata": {},
   "outputs": [],
   "source": [
    "class FeedForward(torch.nn.Module):\n",
    "    def __init__(self, d_model: int, d_ff: int) -> None:\n",
    "        super(FeedForward, self).__init__()\n",
    "        # self.fully_connected_1 = torch.nn.Linear(d_model, d_ff, dtype = torch.double)\n",
    "        # self.fully_connected_2 = torch.nn.Linear(d_ff, d_model, dtype = torch.double)\n",
    "        self.conv1d_1 = torch.nn.Conv1d(in_channels = d_model, out_channels = d_ff, kernel_size = 1, dtype = torch.double)\n",
    "        self.conv1d_2 = torch.nn.Conv1d(in_channels = d_ff, out_channels = d_model, kernel_size = 1, dtype = torch.double)\n",
    "        self.relu = torch.nn.ReLU()\n",
    "\n",
    "    def forward(self, x: torch.tensor) -> torch.tensor:\n",
    "        x = x.transpose(1, 2)\n",
    "        nonliear_output_1 = self.relu(self.conv1d_1(x))\n",
    "        output = self.conv1d_2(nonliear_output_1)\n",
    "        return output.transpose(1, 2)\n"
   ]
  },
  {
   "cell_type": "markdown",
   "metadata": {},
   "source": [
    "#### Encoder layer"
   ]
  },
  {
   "cell_type": "code",
   "execution_count": 671,
   "metadata": {},
   "outputs": [],
   "source": [
    "class Encoder(torch.nn.Module):\n",
    "    def __init__(self, d_model: int, num_heads: int, dropout_rate: int) -> None:\n",
    "        super(Encoder, self).__init__()\n",
    "        self.multi_head_attention = MultiHeadAttention(d_model, num_heads)\n",
    "        self.feed_forward = FeedForward(d_model, d_model * 4)\n",
    "        self.norm_1 = torch.nn.LayerNorm(d_model, dtype = torch.double)\n",
    "        self.norm_2 = torch.nn.LayerNorm(d_model, dtype = torch.double)\n",
    "        self.dropout = torch.nn.Dropout(dropout_rate)\n",
    "        \n",
    "    def forward(self, x):\n",
    "        # print(\"Start to encode...\")\n",
    "        attention_output = self.multi_head_attention(x, x, x)\n",
    "        # print(\"Get the attention output!\\n\")\n",
    "\n",
    "        # print(\"Start to feed forward...\")\n",
    "        feed_forward_input = self.norm_1(x + self.dropout(attention_output))\n",
    "        feed_forward_output = self.feed_forward(feed_forward_input)\n",
    "        output = self.norm_2(feed_forward_input + self.dropout(feed_forward_output))\n",
    "        # print(\"Get the feed forward output!\\n\")\n",
    "        \n",
    "        return output"
   ]
  },
  {
   "cell_type": "markdown",
   "metadata": {},
   "source": [
    "#### Transformer model"
   ]
  },
  {
   "cell_type": "code",
   "execution_count": 672,
   "metadata": {},
   "outputs": [],
   "source": [
    "class Transformer(torch.nn.Module):\n",
    "    def __init__(self, d_model: int, num_heads: int, num_layers: int, dropout_rate: int) -> None:\n",
    "        super(Transformer, self).__init__()\n",
    "        self.d_model = d_model\n",
    "\n",
    "        self.position_embedding = PositionEmbedding(d_model)\n",
    "        self.encoder = torch.nn.ModuleList([Encoder(d_model, num_heads, dropout_rate) for _ in range(num_layers)])\n",
    "        self.dropout = torch.nn.Dropout(dropout_rate)\n",
    "        self.prepare_output = torch.nn.Linear(SEQ_LEN * D_MODEL, 64, dtype = torch.double)\n",
    "        self.relu = torch.nn.ReLU()\n",
    "        self.final_layer = torch.nn.Linear(64, 1, dtype = torch.double)\n",
    "\n",
    "    def forward(self, x):\n",
    "        x = self.position_embedding(x)\n",
    "\n",
    "        encoder_output = x\n",
    "        for encoder in self.encoder:\n",
    "            encoder_output = encoder(encoder_output)\n",
    "\n",
    "        encoder_output = encoder_output.view(encoder_output.shape[0], -1)\n",
    "\n",
    "        # [batch_size, seq_len] -> [batch_size, 64]\n",
    "        flatten_encoder_output = self.dropout(self.prepare_output(encoder_output))\n",
    "\n",
    "        output = self.final_layer(flatten_encoder_output)\n",
    "        return output"
   ]
  },
  {
   "cell_type": "markdown",
   "metadata": {},
   "source": [
    "### Define Model"
   ]
  },
  {
   "cell_type": "code",
   "execution_count": 673,
   "metadata": {},
   "outputs": [],
   "source": [
    "transformer = Transformer(\n",
    "    d_model = D_MODEL,\n",
    "    num_heads = NUM_HEADS,\n",
    "    num_layers = NUM_ENCODER_LAYERS,\n",
    "    dropout_rate = DROPOUT_RATE\n",
    ").to(device = DEVICE)\n",
    "\n",
    "criterion = torch.nn.MSELoss().to(device = DEVICE)\n",
    "optimizer = torch.optim.Adam(transformer.parameters(), lr = LEARNING_RATE, betas=(0.9, 0.98), eps=1e-8, weight_decay = 0.02)"
   ]
  },
  {
   "cell_type": "code",
   "execution_count": 674,
   "metadata": {},
   "outputs": [
    {
     "data": {
      "text/plain": [
       "Transformer(\n",
       "  (position_embedding): PositionEmbedding(\n",
       "    (linear): Linear(in_features=18, out_features=20, bias=True)\n",
       "  )\n",
       "  (encoder): ModuleList(\n",
       "    (0-5): 6 x Encoder(\n",
       "      (multi_head_attention): MultiHeadAttention(\n",
       "        (V_linear): Linear(in_features=20, out_features=20, bias=True)\n",
       "        (K_linear): Linear(in_features=20, out_features=20, bias=True)\n",
       "        (Q_linear): Linear(in_features=20, out_features=20, bias=True)\n",
       "        (output_linear): Linear(in_features=20, out_features=20, bias=True)\n",
       "      )\n",
       "      (feed_forward): FeedForward(\n",
       "        (conv1d_1): Conv1d(20, 80, kernel_size=(1,), stride=(1,))\n",
       "        (conv1d_2): Conv1d(80, 20, kernel_size=(1,), stride=(1,))\n",
       "        (relu): ReLU()\n",
       "      )\n",
       "      (norm_1): LayerNorm((20,), eps=1e-05, elementwise_affine=True)\n",
       "      (norm_2): LayerNorm((20,), eps=1e-05, elementwise_affine=True)\n",
       "      (dropout): Dropout(p=0.05, inplace=False)\n",
       "    )\n",
       "  )\n",
       "  (dropout): Dropout(p=0.05, inplace=False)\n",
       "  (prepare_output): Linear(in_features=640, out_features=64, bias=True)\n",
       "  (relu): ReLU()\n",
       "  (final_layer): Linear(in_features=64, out_features=1, bias=True)\n",
       ")"
      ]
     },
     "execution_count": 674,
     "metadata": {},
     "output_type": "execute_result"
    }
   ],
   "source": [
    "torch.cuda.device(0)\n",
    "torch.cuda.empty_cache()\n",
    "torch.cuda.set_device(0)\n",
    "\n",
    "transformer.train()"
   ]
  },
  {
   "cell_type": "markdown",
   "metadata": {},
   "source": [
    "### Start Train and Validate"
   ]
  },
  {
   "cell_type": "code",
   "execution_count": 675,
   "metadata": {},
   "outputs": [
    {
     "name": "stderr",
     "output_type": "stream",
     "text": [
      "  0%|          | 0/50 [00:00<?, ?it/s]"
     ]
    },
    {
     "name": "stdout",
     "output_type": "stream",
     "text": [
      "Epoch: 1, Average Loss: 146631021.0109386\n"
     ]
    },
    {
     "name": "stderr",
     "output_type": "stream",
     "text": [
      "  2%|▏         | 1/50 [01:52<1:31:52, 112.50s/it]"
     ]
    },
    {
     "name": "stdout",
     "output_type": "stream",
     "text": [
      "Epoch: 1, Average Validation Loss: 34977663.820473135\n",
      "Epoch: 2, Average Loss: 5225939.810796122\n"
     ]
    },
    {
     "name": "stderr",
     "output_type": "stream",
     "text": [
      "  4%|▍         | 2/50 [03:45<1:30:01, 112.52s/it]"
     ]
    },
    {
     "name": "stdout",
     "output_type": "stream",
     "text": [
      "Epoch: 2, Average Validation Loss: 8945718.286588062\n",
      "Epoch: 3, Average Loss: 3445842.791119602\n"
     ]
    },
    {
     "name": "stderr",
     "output_type": "stream",
     "text": [
      "  6%|▌         | 3/50 [05:38<1:28:24, 112.85s/it]"
     ]
    },
    {
     "name": "stdout",
     "output_type": "stream",
     "text": [
      "Epoch: 3, Average Validation Loss: 9109485.644817267\n",
      "Epoch: 4, Average Loss: 2753340.80805393\n"
     ]
    },
    {
     "name": "stderr",
     "output_type": "stream",
     "text": [
      "  8%|▊         | 4/50 [07:30<1:26:26, 112.75s/it]"
     ]
    },
    {
     "name": "stdout",
     "output_type": "stream",
     "text": [
      "Epoch: 4, Average Validation Loss: 11461688.88156223\n",
      "Epoch: 5, Average Loss: 2506737.500176632\n"
     ]
    },
    {
     "name": "stderr",
     "output_type": "stream",
     "text": [
      " 10%|█         | 5/50 [09:23<1:24:31, 112.70s/it]"
     ]
    },
    {
     "name": "stdout",
     "output_type": "stream",
     "text": [
      "Epoch: 5, Average Validation Loss: 9765648.29008333\n",
      "Epoch: 6, Average Loss: 2384978.778856119\n"
     ]
    },
    {
     "name": "stderr",
     "output_type": "stream",
     "text": [
      " 12%|█▏        | 6/50 [11:17<1:23:01, 113.21s/it]"
     ]
    },
    {
     "name": "stdout",
     "output_type": "stream",
     "text": [
      "Epoch: 6, Average Validation Loss: 9432844.066500494\n",
      "Epoch: 7, Average Loss: 2280498.641690132\n"
     ]
    },
    {
     "name": "stderr",
     "output_type": "stream",
     "text": [
      " 14%|█▍        | 7/50 [13:10<1:21:06, 113.18s/it]"
     ]
    },
    {
     "name": "stdout",
     "output_type": "stream",
     "text": [
      "Epoch: 7, Average Validation Loss: 7311593.205709219\n",
      "Epoch: 8, Average Loss: 2193825.947628402\n"
     ]
    },
    {
     "name": "stderr",
     "output_type": "stream",
     "text": [
      " 16%|█▌        | 8/50 [15:03<1:19:08, 113.05s/it]"
     ]
    },
    {
     "name": "stdout",
     "output_type": "stream",
     "text": [
      "Epoch: 8, Average Validation Loss: 13981105.571392706\n",
      "Epoch: 9, Average Loss: 2123863.61457607\n"
     ]
    },
    {
     "name": "stderr",
     "output_type": "stream",
     "text": [
      " 18%|█▊        | 9/50 [16:56<1:17:14, 113.04s/it]"
     ]
    },
    {
     "name": "stdout",
     "output_type": "stream",
     "text": [
      "Epoch: 9, Average Validation Loss: 11067761.65928904\n",
      "Epoch: 10, Average Loss: 2086638.5890203353\n"
     ]
    },
    {
     "name": "stderr",
     "output_type": "stream",
     "text": [
      " 20%|██        | 10/50 [18:49<1:15:14, 112.86s/it]"
     ]
    },
    {
     "name": "stdout",
     "output_type": "stream",
     "text": [
      "Epoch: 10, Average Validation Loss: 7343892.87931204\n",
      "Epoch: 11, Average Loss: 1996152.9093595222\n"
     ]
    },
    {
     "name": "stderr",
     "output_type": "stream",
     "text": [
      " 22%|██▏       | 11/50 [20:41<1:13:18, 112.79s/it]"
     ]
    },
    {
     "name": "stdout",
     "output_type": "stream",
     "text": [
      "Epoch: 11, Average Validation Loss: 4794640.931511276\n",
      "Epoch: 12, Average Loss: 1943513.0776680089\n"
     ]
    },
    {
     "name": "stderr",
     "output_type": "stream",
     "text": [
      " 24%|██▍       | 12/50 [22:34<1:11:22, 112.70s/it]"
     ]
    },
    {
     "name": "stdout",
     "output_type": "stream",
     "text": [
      "Epoch: 12, Average Validation Loss: 9555496.228418257\n",
      "Epoch: 13, Average Loss: 1877514.0151116094\n"
     ]
    },
    {
     "name": "stderr",
     "output_type": "stream",
     "text": [
      " 26%|██▌       | 13/50 [24:26<1:09:27, 112.63s/it]"
     ]
    },
    {
     "name": "stdout",
     "output_type": "stream",
     "text": [
      "Epoch: 13, Average Validation Loss: 11927588.611628331\n",
      "Epoch: 14, Average Loss: 1816981.7173108715\n"
     ]
    },
    {
     "name": "stderr",
     "output_type": "stream",
     "text": [
      " 28%|██▊       | 14/50 [26:19<1:07:34, 112.62s/it]"
     ]
    },
    {
     "name": "stdout",
     "output_type": "stream",
     "text": [
      "Epoch: 14, Average Validation Loss: 11859574.418494938\n",
      "Epoch: 15, Average Loss: 1761707.68525444\n"
     ]
    },
    {
     "name": "stderr",
     "output_type": "stream",
     "text": [
      " 30%|███       | 15/50 [28:11<1:05:42, 112.64s/it]"
     ]
    },
    {
     "name": "stdout",
     "output_type": "stream",
     "text": [
      "Epoch: 15, Average Validation Loss: 10188261.224713517\n",
      "Epoch: 16, Average Loss: 1736645.5020157641\n"
     ]
    },
    {
     "name": "stderr",
     "output_type": "stream",
     "text": [
      " 32%|███▏      | 16/50 [30:05<1:03:54, 112.78s/it]"
     ]
    },
    {
     "name": "stdout",
     "output_type": "stream",
     "text": [
      "Epoch: 16, Average Validation Loss: 7257680.91771079\n",
      "Epoch: 17, Average Loss: 1715365.1170724689\n"
     ]
    },
    {
     "name": "stderr",
     "output_type": "stream",
     "text": [
      " 34%|███▍      | 17/50 [31:58<1:02:04, 112.86s/it]"
     ]
    },
    {
     "name": "stdout",
     "output_type": "stream",
     "text": [
      "Epoch: 17, Average Validation Loss: 13051722.1319173\n",
      "Epoch: 18, Average Loss: 1668556.4935163658\n"
     ]
    },
    {
     "name": "stderr",
     "output_type": "stream",
     "text": [
      " 36%|███▌      | 18/50 [33:51<1:00:12, 112.89s/it]"
     ]
    },
    {
     "name": "stdout",
     "output_type": "stream",
     "text": [
      "Epoch: 18, Average Validation Loss: 9864250.667824104\n",
      "Epoch: 19, Average Loss: 1635141.0381648203\n"
     ]
    },
    {
     "name": "stderr",
     "output_type": "stream",
     "text": [
      " 38%|███▊      | 19/50 [35:44<58:20, 112.92s/it]  "
     ]
    },
    {
     "name": "stdout",
     "output_type": "stream",
     "text": [
      "Epoch: 19, Average Validation Loss: 5641971.300407512\n",
      "Epoch: 20, Average Loss: 1616421.0923619966\n"
     ]
    },
    {
     "name": "stderr",
     "output_type": "stream",
     "text": [
      " 40%|████      | 20/50 [37:38<56:45, 113.51s/it]"
     ]
    },
    {
     "name": "stdout",
     "output_type": "stream",
     "text": [
      "Epoch: 20, Average Validation Loss: 9487307.092461303\n",
      "Epoch: 21, Average Loss: 1570741.564559567\n"
     ]
    },
    {
     "name": "stderr",
     "output_type": "stream",
     "text": [
      " 42%|████▏     | 21/50 [39:32<54:54, 113.60s/it]"
     ]
    },
    {
     "name": "stdout",
     "output_type": "stream",
     "text": [
      "Epoch: 21, Average Validation Loss: 10725019.814873105\n",
      "Epoch: 22, Average Loss: 1568570.4095940702\n"
     ]
    },
    {
     "name": "stderr",
     "output_type": "stream",
     "text": [
      " 44%|████▍     | 22/50 [41:26<53:02, 113.67s/it]"
     ]
    },
    {
     "name": "stdout",
     "output_type": "stream",
     "text": [
      "Epoch: 22, Average Validation Loss: 8103993.140042861\n",
      "Epoch: 23, Average Loss: 1533742.8040132024\n"
     ]
    },
    {
     "name": "stderr",
     "output_type": "stream",
     "text": [
      " 46%|████▌     | 23/50 [43:20<51:07, 113.61s/it]"
     ]
    },
    {
     "name": "stdout",
     "output_type": "stream",
     "text": [
      "Epoch: 23, Average Validation Loss: 9447128.149529718\n",
      "Epoch: 24, Average Loss: 1493239.0056042476\n"
     ]
    },
    {
     "name": "stderr",
     "output_type": "stream",
     "text": [
      " 48%|████▊     | 24/50 [45:13<49:12, 113.56s/it]"
     ]
    },
    {
     "name": "stdout",
     "output_type": "stream",
     "text": [
      "Epoch: 24, Average Validation Loss: 10375594.482604975\n",
      "Epoch: 25, Average Loss: 1479664.8696924427\n"
     ]
    },
    {
     "name": "stderr",
     "output_type": "stream",
     "text": [
      " 50%|█████     | 25/50 [47:06<47:17, 113.49s/it]"
     ]
    },
    {
     "name": "stdout",
     "output_type": "stream",
     "text": [
      "Epoch: 25, Average Validation Loss: 10994603.750289\n",
      "Epoch: 26, Average Loss: 1450649.0117185554\n"
     ]
    },
    {
     "name": "stderr",
     "output_type": "stream",
     "text": [
      " 52%|█████▏    | 26/50 [48:59<45:21, 113.39s/it]"
     ]
    },
    {
     "name": "stdout",
     "output_type": "stream",
     "text": [
      "Epoch: 26, Average Validation Loss: 12638119.55948872\n",
      "Epoch: 27, Average Loss: 1422634.1817698565\n"
     ]
    },
    {
     "name": "stderr",
     "output_type": "stream",
     "text": [
      " 54%|█████▍    | 27/50 [50:53<43:25, 113.30s/it]"
     ]
    },
    {
     "name": "stdout",
     "output_type": "stream",
     "text": [
      "Epoch: 27, Average Validation Loss: 11782911.406297408\n",
      "Epoch: 28, Average Loss: 1377502.855456713\n"
     ]
    },
    {
     "name": "stderr",
     "output_type": "stream",
     "text": [
      " 56%|█████▌    | 28/50 [52:46<41:34, 113.39s/it]"
     ]
    },
    {
     "name": "stdout",
     "output_type": "stream",
     "text": [
      "Epoch: 28, Average Validation Loss: 11467403.963987011\n",
      "Epoch: 29, Average Loss: 1331096.213443772\n"
     ]
    },
    {
     "name": "stderr",
     "output_type": "stream",
     "text": [
      " 58%|█████▊    | 29/50 [54:39<39:40, 113.35s/it]"
     ]
    },
    {
     "name": "stdout",
     "output_type": "stream",
     "text": [
      "Epoch: 29, Average Validation Loss: 11151113.64692151\n",
      "Epoch: 30, Average Loss: 1282730.1937943313\n"
     ]
    },
    {
     "name": "stderr",
     "output_type": "stream",
     "text": [
      " 60%|██████    | 30/50 [56:33<37:46, 113.34s/it]"
     ]
    },
    {
     "name": "stdout",
     "output_type": "stream",
     "text": [
      "Epoch: 30, Average Validation Loss: 8515543.987767825\n",
      "Epoch: 31, Average Loss: 1234820.5943989838\n"
     ]
    },
    {
     "name": "stderr",
     "output_type": "stream",
     "text": [
      " 62%|██████▏   | 31/50 [58:26<35:54, 113.39s/it]"
     ]
    },
    {
     "name": "stdout",
     "output_type": "stream",
     "text": [
      "Epoch: 31, Average Validation Loss: 8766577.030283015\n",
      "Epoch: 32, Average Loss: 1218124.5370787808\n"
     ]
    },
    {
     "name": "stderr",
     "output_type": "stream",
     "text": [
      " 64%|██████▍   | 32/50 [1:00:20<34:00, 113.37s/it]"
     ]
    },
    {
     "name": "stdout",
     "output_type": "stream",
     "text": [
      "Epoch: 32, Average Validation Loss: 11305431.323941842\n",
      "Epoch: 33, Average Loss: 1176860.339737114\n"
     ]
    },
    {
     "name": "stderr",
     "output_type": "stream",
     "text": [
      " 66%|██████▌   | 33/50 [1:02:13<32:06, 113.34s/it]"
     ]
    },
    {
     "name": "stdout",
     "output_type": "stream",
     "text": [
      "Epoch: 33, Average Validation Loss: 11714169.875473803\n",
      "Epoch: 34, Average Loss: 1151483.6899135234\n"
     ]
    },
    {
     "name": "stderr",
     "output_type": "stream",
     "text": [
      " 68%|██████▊   | 34/50 [1:04:06<30:14, 113.38s/it]"
     ]
    },
    {
     "name": "stdout",
     "output_type": "stream",
     "text": [
      "Epoch: 34, Average Validation Loss: 10048001.476276256\n",
      "Epoch: 35, Average Loss: 1146244.8828021097\n"
     ]
    },
    {
     "name": "stderr",
     "output_type": "stream",
     "text": [
      " 70%|███████   | 35/50 [1:05:59<28:19, 113.27s/it]"
     ]
    },
    {
     "name": "stdout",
     "output_type": "stream",
     "text": [
      "Epoch: 35, Average Validation Loss: 8698693.299260305\n",
      "Epoch: 36, Average Loss: 1129594.4915186227\n"
     ]
    },
    {
     "name": "stderr",
     "output_type": "stream",
     "text": [
      " 72%|███████▏  | 36/50 [1:07:53<26:25, 113.25s/it]"
     ]
    },
    {
     "name": "stdout",
     "output_type": "stream",
     "text": [
      "Epoch: 36, Average Validation Loss: 8361208.667616188\n",
      "Epoch: 37, Average Loss: 1113926.13258322\n"
     ]
    },
    {
     "name": "stderr",
     "output_type": "stream",
     "text": [
      " 74%|███████▍  | 37/50 [1:09:46<24:32, 113.24s/it]"
     ]
    },
    {
     "name": "stdout",
     "output_type": "stream",
     "text": [
      "Epoch: 37, Average Validation Loss: 10302676.240127994\n",
      "Epoch: 38, Average Loss: 1109357.5402846413\n"
     ]
    },
    {
     "name": "stderr",
     "output_type": "stream",
     "text": [
      " 76%|███████▌  | 38/50 [1:11:39<22:38, 113.23s/it]"
     ]
    },
    {
     "name": "stdout",
     "output_type": "stream",
     "text": [
      "Epoch: 38, Average Validation Loss: 11317118.619379736\n",
      "Epoch: 39, Average Loss: 1102027.5236042084\n"
     ]
    },
    {
     "name": "stderr",
     "output_type": "stream",
     "text": [
      " 78%|███████▊  | 39/50 [1:13:32<20:46, 113.32s/it]"
     ]
    },
    {
     "name": "stdout",
     "output_type": "stream",
     "text": [
      "Epoch: 39, Average Validation Loss: 9755117.797572937\n",
      "Epoch: 40, Average Loss: 1085461.5111128662\n"
     ]
    },
    {
     "name": "stderr",
     "output_type": "stream",
     "text": [
      " 80%|████████  | 40/50 [1:15:26<18:53, 113.36s/it]"
     ]
    },
    {
     "name": "stdout",
     "output_type": "stream",
     "text": [
      "Epoch: 40, Average Validation Loss: 12172524.561967518\n",
      "Epoch: 41, Average Loss: 1049550.1606251097\n"
     ]
    },
    {
     "name": "stderr",
     "output_type": "stream",
     "text": [
      " 82%|████████▏ | 41/50 [1:17:19<16:59, 113.28s/it]"
     ]
    },
    {
     "name": "stdout",
     "output_type": "stream",
     "text": [
      "Epoch: 41, Average Validation Loss: 7471880.602900841\n",
      "Epoch: 42, Average Loss: 1048902.3935783857\n"
     ]
    },
    {
     "name": "stderr",
     "output_type": "stream",
     "text": [
      " 84%|████████▍ | 42/50 [1:19:13<15:07, 113.41s/it]"
     ]
    },
    {
     "name": "stdout",
     "output_type": "stream",
     "text": [
      "Epoch: 42, Average Validation Loss: 9179599.21820028\n",
      "Epoch: 43, Average Loss: 1032379.9890454153\n"
     ]
    },
    {
     "name": "stderr",
     "output_type": "stream",
     "text": [
      " 86%|████████▌ | 43/50 [1:21:08<13:17, 113.88s/it]"
     ]
    },
    {
     "name": "stdout",
     "output_type": "stream",
     "text": [
      "Epoch: 43, Average Validation Loss: 9221171.923328366\n",
      "Epoch: 44, Average Loss: 1025554.2741632803\n"
     ]
    },
    {
     "name": "stderr",
     "output_type": "stream",
     "text": [
      " 88%|████████▊ | 44/50 [1:23:04<11:27, 114.54s/it]"
     ]
    },
    {
     "name": "stdout",
     "output_type": "stream",
     "text": [
      "Epoch: 44, Average Validation Loss: 10599261.851395622\n",
      "Epoch: 45, Average Loss: 1012055.8698865937\n"
     ]
    },
    {
     "name": "stderr",
     "output_type": "stream",
     "text": [
      " 90%|█████████ | 45/50 [1:24:58<09:32, 114.43s/it]"
     ]
    },
    {
     "name": "stdout",
     "output_type": "stream",
     "text": [
      "Epoch: 45, Average Validation Loss: 10750951.021899309\n",
      "Epoch: 46, Average Loss: 1001397.773718962\n"
     ]
    },
    {
     "name": "stderr",
     "output_type": "stream",
     "text": [
      " 92%|█████████▏| 46/50 [1:26:52<07:37, 114.36s/it]"
     ]
    },
    {
     "name": "stdout",
     "output_type": "stream",
     "text": [
      "Epoch: 46, Average Validation Loss: 8452044.376163892\n",
      "Epoch: 47, Average Loss: 997958.0951944765\n"
     ]
    },
    {
     "name": "stderr",
     "output_type": "stream",
     "text": [
      " 94%|█████████▍| 47/50 [1:28:46<05:42, 114.17s/it]"
     ]
    },
    {
     "name": "stdout",
     "output_type": "stream",
     "text": [
      "Epoch: 47, Average Validation Loss: 12356337.768189369\n",
      "Epoch: 48, Average Loss: 992389.9025075223\n"
     ]
    },
    {
     "name": "stderr",
     "output_type": "stream",
     "text": [
      " 96%|█████████▌| 48/50 [1:30:39<03:47, 113.90s/it]"
     ]
    },
    {
     "name": "stdout",
     "output_type": "stream",
     "text": [
      "Epoch: 48, Average Validation Loss: 11915511.444091372\n",
      "Epoch: 49, Average Loss: 976362.138302203\n"
     ]
    },
    {
     "name": "stderr",
     "output_type": "stream",
     "text": [
      " 98%|█████████▊| 49/50 [1:32:32<01:53, 113.71s/it]"
     ]
    },
    {
     "name": "stdout",
     "output_type": "stream",
     "text": [
      "Epoch: 49, Average Validation Loss: 9470443.179846443\n",
      "Epoch: 50, Average Loss: 980684.2422809611\n"
     ]
    },
    {
     "name": "stderr",
     "output_type": "stream",
     "text": [
      "100%|██████████| 50/50 [1:34:26<00:00, 113.33s/it]"
     ]
    },
    {
     "name": "stdout",
     "output_type": "stream",
     "text": [
      "Epoch: 50, Average Validation Loss: 6333048.311661606\n"
     ]
    },
    {
     "name": "stderr",
     "output_type": "stream",
     "text": [
      "\n"
     ]
    }
   ],
   "source": [
    "best_average_vloss = float('inf')\n",
    "model_path = \"\"\n",
    "\n",
    "for epoch in tqdm(range(EPOCHS)):\n",
    "    transformer.train()\n",
    "\n",
    "    epoch_loss = 0\n",
    "    for x_data, y_data in train_dataloader:\n",
    "        x_data = x_data.to(device = DEVICE)\n",
    "        y_data = y_data.to(device = DEVICE)\n",
    "\n",
    "        optimizer.zero_grad()\n",
    "        output = transformer(x_data)\n",
    "        loss = criterion(output, y_data)\n",
    "        loss.backward()\n",
    "        optimizer.step()\n",
    "        epoch_loss += loss.item()\n",
    "    \n",
    "    print(f'Epoch: {epoch + 1}, Average Loss: {epoch_loss / len(train_dataloader)}')\n",
    "    wandb.log({'loss': epoch_loss})\n",
    "    wandb.log({'average_loss': epoch_loss / len(train_dataloader)})\n",
    "\n",
    "    transformer.eval()\n",
    "    epoch_vloss = 0\n",
    "    with torch.no_grad():\n",
    "        for x_data, y_data in valid_dataloader:\n",
    "            x_data = x_data.to(device = DEVICE)\n",
    "            y_data = y_data.to(device = DEVICE)\n",
    "\n",
    "            voutput = transformer(x_data)\n",
    "            vloss = criterion(output, y_data)\n",
    "            epoch_vloss += vloss.item()\n",
    "    \n",
    "    print(f'Epoch: {epoch + 1}, Average Validation Loss: {epoch_vloss / len(valid_dataloader)}')\n",
    "    wandb.log({'validation_loss': epoch_vloss})\n",
    "    wandb.log({'average_validation_loss': epoch_vloss / len(valid_dataloader)})\n",
    "\n",
    "    if epoch_vloss / len(valid_dataloader) < best_average_vloss:\n",
    "        if os.path.exists(model_path):\n",
    "            os.remove(model_path)\n",
    "\n",
    "        best_average_vloss = epoch_vloss / len(valid_dataloader)\n",
    "        model_path = f'model_{epoch + 1}_{datetime.datetime.now().strftime(\"%Y%m%d-%H%M%S\")}.pth'\n",
    "        torch.save(transformer.state_dict(), model_path)\n"
   ]
  },
  {
   "cell_type": "markdown",
   "metadata": {},
   "source": [
    "### Load the best model in training and predict one of the data in test dataset"
   ]
  },
  {
   "cell_type": "code",
   "execution_count": 676,
   "metadata": {},
   "outputs": [
    {
     "name": "stdout",
     "output_type": "stream",
     "text": [
      "model_11_20240830-163805.pth\n",
      "Predicted: 16212.661313409732, \tTrue: 20531.0, \tdiffernece: -4318.3386865902685\n",
      "Predicted: 16049.96299512053, \tTrue: 20212.0, \tdiffernece: -4162.03700487947\n",
      "Predicted: 15792.991080237918, \tTrue: 21919.0, \tdiffernece: -6126.008919762082\n",
      "Predicted: 16328.38209084293, \tTrue: 19628.0, \tdiffernece: -3299.6179091570702\n",
      "Predicted: 16172.941434756538, \tTrue: 20745.0, \tdiffernece: -4572.058565243462\n",
      "Predicted: 16099.528488837552, \tTrue: 20120.0, \tdiffernece: -4020.471511162448\n",
      "Predicted: 15521.544104124034, \tTrue: 23480.0, \tdiffernece: -7958.455895875966\n",
      "Predicted: 16209.990862082654, \tTrue: 20711.0, \tdiffernece: -4501.009137917346\n",
      "Predicted: 15711.77450073335, \tTrue: 22442.0, \tdiffernece: -6730.225499266649\n",
      "Predicted: 16197.928982461877, \tTrue: 20686.0, \tdiffernece: -4488.071017538123\n",
      "Predicted: 15836.355315615438, \tTrue: 22126.0, \tdiffernece: -6289.644684384562\n",
      "Predicted: 15939.474219334243, \tTrue: 22416.0, \tdiffernece: -6476.525780665757\n",
      "Predicted: 15574.69091203096, \tTrue: 20018.0, \tdiffernece: -4443.309087969041\n",
      "Predicted: 16379.206436092778, \tTrue: 20184.0, \tdiffernece: -3804.793563907222\n",
      "Predicted: 16020.851978672032, \tTrue: 21298.0, \tdiffernece: -5277.148021327968\n",
      "Predicted: 15892.144813745517, \tTrue: 21476.0, \tdiffernece: -5583.855186254483\n",
      "Predicted: 15632.99586542825, \tTrue: 20952.0, \tdiffernece: -5319.004134571749\n",
      "Predicted: 15412.008387705311, \tTrue: 24144.0, \tdiffernece: -8731.991612294689\n",
      "Predicted: 16141.781756463404, \tTrue: 19796.0, \tdiffernece: -3654.2182435365958\n",
      "Predicted: 15746.4473929729, \tTrue: 23599.0, \tdiffernece: -7852.552607027101\n",
      "Predicted: 15819.916516531473, \tTrue: 20955.0, \tdiffernece: -5135.0834834685265\n",
      "Predicted: 15744.042462433652, \tTrue: 22817.0, \tdiffernece: -7072.957537566348\n",
      "Predicted: 15622.577056690496, \tTrue: 23603.0, \tdiffernece: -7980.422943309504\n",
      "Predicted: 15817.168393062024, \tTrue: 22840.0, \tdiffernece: -7022.831606937976\n",
      "Predicted: 15788.293041696921, \tTrue: 22842.0, \tdiffernece: -7053.706958303079\n",
      "Predicted: 15614.59743049656, \tTrue: 23761.0, \tdiffernece: -8146.40256950344\n",
      "Predicted: 15700.220844456231, \tTrue: 22737.0, \tdiffernece: -7036.779155543769\n",
      "Predicted: 16094.873844678026, \tTrue: 20205.0, \tdiffernece: -4110.126155321974\n",
      "Predicted: 15347.434022801925, \tTrue: 23526.0, \tdiffernece: -8178.565977198075\n",
      "Predicted: 16207.914519125308, \tTrue: 20422.0, \tdiffernece: -4214.085480874692\n",
      "Predicted: 15725.86194956138, \tTrue: 22299.0, \tdiffernece: -6573.13805043862\n",
      "Predicted: 15524.29308938489, \tTrue: 23843.0, \tdiffernece: -8318.70691061511\n",
      "Predicted: 16107.756470271415, \tTrue: 20183.0, \tdiffernece: -4075.2435297285847\n",
      "Predicted: 15658.961620340984, \tTrue: 23942.0, \tdiffernece: -8283.038379659016\n",
      "Predicted: 15529.104057222836, \tTrue: 22795.0, \tdiffernece: -7265.895942777164\n",
      "Predicted: 16140.517300171694, \tTrue: 20291.0, \tdiffernece: -4150.482699828306\n",
      "Predicted: 15914.435223613695, \tTrue: 21820.0, \tdiffernece: -5905.564776386305\n",
      "Predicted: 16137.373417251674, \tTrue: 20027.0, \tdiffernece: -3889.6265827483257\n",
      "Predicted: 16117.318786680677, \tTrue: 19905.0, \tdiffernece: -3787.6812133193234\n",
      "Predicted: 16065.440141002233, \tTrue: 19678.0, \tdiffernece: -3612.559858997767\n",
      "Predicted: 15686.2400212914, \tTrue: 21960.0, \tdiffernece: -6273.7599787086\n",
      "Predicted: 16285.296678586275, \tTrue: 19778.0, \tdiffernece: -3492.7033214137246\n",
      "Predicted: 16327.823479911538, \tTrue: 20226.0, \tdiffernece: -3898.176520088462\n",
      "Predicted: 15921.80239936064, \tTrue: 21806.0, \tdiffernece: -5884.19760063936\n",
      "Predicted: 15776.95837478864, \tTrue: 23345.0, \tdiffernece: -7568.041625211359\n",
      "Predicted: 16179.267491506665, \tTrue: 21373.0, \tdiffernece: -5193.7325084933345\n",
      "Predicted: 16021.760313705428, \tTrue: 20717.0, \tdiffernece: -4695.239686294572\n",
      "Predicted: 15580.587151127256, \tTrue: 21146.0, \tdiffernece: -5565.412848872744\n",
      "Predicted: 16271.096907210807, \tTrue: 20206.0, \tdiffernece: -3934.9030927891927\n",
      "Predicted: 15616.041943750235, \tTrue: 21976.0, \tdiffernece: -6359.958056249765\n",
      "Predicted: 16201.83913718333, \tTrue: 20636.0, \tdiffernece: -4434.1608628166705\n",
      "Predicted: 15591.432408947287, \tTrue: 23941.0, \tdiffernece: -8349.567591052713\n",
      "Predicted: 15889.306130695946, \tTrue: 22983.0, \tdiffernece: -7093.693869304054\n",
      "Predicted: 16139.578685315186, \tTrue: 19928.0, \tdiffernece: -3788.421314684814\n",
      "Predicted: 16122.05217044974, \tTrue: 20652.0, \tdiffernece: -4529.9478295502595\n",
      "Predicted: 15265.392082397175, \tTrue: 23662.0, \tdiffernece: -8396.607917602825\n",
      "Predicted: 15830.86873376629, \tTrue: 22792.0, \tdiffernece: -6961.1312662337095\n",
      "Predicted: 16324.350487319989, \tTrue: 19639.0, \tdiffernece: -3314.649512680011\n",
      "Predicted: 15644.845349306219, \tTrue: 19902.0, \tdiffernece: -4257.154650693781\n",
      "Predicted: 15755.144864429005, \tTrue: 23145.0, \tdiffernece: -7389.855135570995\n",
      "Predicted: 15687.900266619336, \tTrue: 23355.0, \tdiffernece: -7667.0997333806645\n",
      "Predicted: 15662.4799686445, \tTrue: 23946.0, \tdiffernece: -8283.5200313555\n",
      "Predicted: 15796.185790017764, \tTrue: 22715.0, \tdiffernece: -6918.814209982236\n",
      "Predicted: 16081.79538394268, \tTrue: 20110.0, \tdiffernece: -4028.204616057321\n"
     ]
    }
   ],
   "source": [
    "print(model_path)\n",
    "transformer = Transformer(\n",
    "    d_model = D_MODEL,\n",
    "    num_heads = NUM_HEADS,\n",
    "    num_layers = NUM_ENCODER_LAYERS,\n",
    "    dropout_rate = DROPOUT_RATE\n",
    ").to(device = DEVICE)\n",
    "\n",
    "transformer.load_state_dict(torch.load(model_path, weights_only = True))\n",
    "transformer.eval()\n",
    "\n",
    "test = iter(test_dataloader)\n",
    "test_x, test_y = next(test)\n",
    "test_output = transformer(test_x.to(device = DEVICE))\n",
    "\n",
    "for i in range(test_output.shape[0]):\n",
    "    print(f'Predicted: {test_output[i].item()}, \\tTrue: {test_y[i].item()}, \\tdiffernece: {test_output[i].item() - test_y[i].item()}')"
   ]
  }
 ],
 "metadata": {
  "kernelspec": {
   "display_name": "senior_project-BR4N3uQ5",
   "language": "python",
   "name": "python3"
  },
  "language_info": {
   "codemirror_mode": {
    "name": "ipython",
    "version": 3
   },
   "file_extension": ".py",
   "mimetype": "text/x-python",
   "name": "python",
   "nbconvert_exporter": "python",
   "pygments_lexer": "ipython3",
   "version": "3.11.4"
  }
 },
 "nbformat": 4,
 "nbformat_minor": 2
}
