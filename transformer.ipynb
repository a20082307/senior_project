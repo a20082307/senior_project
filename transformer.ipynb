{
 "cells": [
  {
   "cell_type": "markdown",
   "metadata": {},
   "source": [
    "## Initialize"
   ]
  },
  {
   "cell_type": "markdown",
   "metadata": {},
   "source": [
    "### Import modules"
   ]
  },
  {
   "cell_type": "code",
   "execution_count": 1,
   "metadata": {},
   "outputs": [],
   "source": [
    "import datetime\n",
    "import math\n",
    "import os\n",
    "\n",
    "import matplotlib.pyplot as plt\n",
    "import numpy as np \n",
    "import pandas as pd\n",
    "import shioaji as sj\n",
    "import talib as ta\n",
    "import torch\n",
    "import wandb\n",
    "\n",
    "from sklearn.model_selection import KFold\n",
    "from tqdm import tqdm"
   ]
  },
  {
   "cell_type": "markdown",
   "metadata": {},
   "source": [
    "### Hyper parameters and parameters"
   ]
  },
  {
   "cell_type": "code",
   "execution_count": 2,
   "metadata": {},
   "outputs": [],
   "source": [
    "## Hyperparameters\n",
    "SEQ_LEN = 120\n",
    "BATCH_SIZE = 32\n",
    "EPOCHS = 25\n",
    "D_MODEL = 6\n",
    "NUM_HEADS = 2\n",
    "NUM_ENCODER_LAYERS = 6\n",
    "DROPOUT_RATE = 0.1\n",
    "LEARNING_RATE = 1e-4\n",
    "K = 5\n",
    "\n",
    "## Parameters\n",
    "MIN_LATER = 15  # The minute we want to predict in the future\n",
    "DEVICE = (torch.cuda.is_available() and 'cuda:0') or 'cpu'\n",
    "\n",
    "BEGIN_TIME = datetime.time(9, 15)\n",
    "END_TIME = datetime.time(13, 15)"
   ]
  },
  {
   "cell_type": "markdown",
   "metadata": {},
   "source": [
    "### Connect with weight and bias website"
   ]
  },
  {
   "cell_type": "code",
   "execution_count": 3,
   "metadata": {},
   "outputs": [
    {
     "name": "stderr",
     "output_type": "stream",
     "text": [
      "Failed to detect the name of this notebook, you can set it manually with the WANDB_NOTEBOOK_NAME environment variable to enable code saving.\n"
     ]
    },
    {
     "name": "stderr",
     "output_type": "stream",
     "text": [
      "\u001b[34m\u001b[1mwandb\u001b[0m: Currently logged in as: \u001b[33mrogerline0527\u001b[0m (\u001b[33mrogerline0527-national-tsing-hua-university\u001b[0m). Use \u001b[1m`wandb login --relogin`\u001b[0m to force relogin\n"
     ]
    },
    {
     "data": {
      "text/html": [
       "wandb version 0.17.9 is available!  To upgrade, please run:\n",
       " $ pip install wandb --upgrade"
      ],
      "text/plain": [
       "<IPython.core.display.HTML object>"
      ]
     },
     "metadata": {},
     "output_type": "display_data"
    },
    {
     "data": {
      "text/html": [
       "Tracking run with wandb version 0.17.7"
      ],
      "text/plain": [
       "<IPython.core.display.HTML object>"
      ]
     },
     "metadata": {},
     "output_type": "display_data"
    },
    {
     "data": {
      "text/html": [
       "Run data is saved locally in <code>d:\\vscode\\python\\senior project\\wandb\\run-20240912_000152-bnao4q57</code>"
      ],
      "text/plain": [
       "<IPython.core.display.HTML object>"
      ]
     },
     "metadata": {},
     "output_type": "display_data"
    },
    {
     "data": {
      "text/html": [
       "Syncing run <strong><a href='https://wandb.ai/rogerline0527-national-tsing-hua-university/transformer/runs/bnao4q57' target=\"_blank\">rural-tree-65</a></strong> to <a href='https://wandb.ai/rogerline0527-national-tsing-hua-university/transformer' target=\"_blank\">Weights & Biases</a> (<a href='https://wandb.me/run' target=\"_blank\">docs</a>)<br/>"
      ],
      "text/plain": [
       "<IPython.core.display.HTML object>"
      ]
     },
     "metadata": {},
     "output_type": "display_data"
    },
    {
     "data": {
      "text/html": [
       " View project at <a href='https://wandb.ai/rogerline0527-national-tsing-hua-university/transformer' target=\"_blank\">https://wandb.ai/rogerline0527-national-tsing-hua-university/transformer</a>"
      ],
      "text/plain": [
       "<IPython.core.display.HTML object>"
      ]
     },
     "metadata": {},
     "output_type": "display_data"
    },
    {
     "data": {
      "text/html": [
       " View run at <a href='https://wandb.ai/rogerline0527-national-tsing-hua-university/transformer/runs/bnao4q57' target=\"_blank\">https://wandb.ai/rogerline0527-national-tsing-hua-university/transformer/runs/bnao4q57</a>"
      ],
      "text/plain": [
       "<IPython.core.display.HTML object>"
      ]
     },
     "metadata": {},
     "output_type": "display_data"
    },
    {
     "data": {
      "text/html": [
       "<button onClick=\"this.nextSibling.style.display='block';this.style.display='none';\">Display W&B run</button><iframe src='https://wandb.ai/rogerline0527-national-tsing-hua-university/transformer/runs/bnao4q57?jupyter=true' style='border:none;width:100%;height:420px;display:none;'></iframe>"
      ],
      "text/plain": [
       "<wandb.sdk.wandb_run.Run at 0x1fcdd639150>"
      ]
     },
     "execution_count": 3,
     "metadata": {},
     "output_type": "execute_result"
    }
   ],
   "source": [
    "wandb.init(\n",
    "    project = \"transformer\",\n",
    "\n",
    "    config = {\n",
    "        \"architecture\": \"transformer\",\n",
    "        \"dataset\": \"TXF and TSMC\",\n",
    "        \"Kbar_timeunit\": \"15min\",\n",
    "        \"LOSS_FUNC\": \"MSE\",\n",
    "        \"OPTIMIZER\": \"adam\",\n",
    "\n",
    "        \"SEQ_LEN\": SEQ_LEN,\n",
    "        \"BATCH_SIZE\": BATCH_SIZE,\n",
    "        \"EPOCHS\": EPOCHS,\n",
    "        \"D_MODEL\": D_MODEL,\n",
    "        \"NUM_HEADS\": NUM_HEADS,\n",
    "        \"NUM_ENCODER_LAYERS\": NUM_ENCODER_LAYERS,\n",
    "        \"DROPOUT_RATE\": DROPOUT_RATE,\n",
    "        \"LEANING_RATE\": LEARNING_RATE,\n",
    "        \"KFold\": K,\n",
    "\n",
    "        \"MIN_LATER\": MIN_LATER,\n",
    "\n",
    "        \"EPSILON\": 1e-8,\n",
    "        \"BETA\": (0.9, 0.98),\n",
    "        \"WEIGHT_DECAY\": 0.02,\n",
    "    }\n",
    ")"
   ]
  },
  {
   "cell_type": "markdown",
   "metadata": {},
   "source": [
    "### Plot function"
   ]
  },
  {
   "cell_type": "code",
   "execution_count": 4,
   "metadata": {},
   "outputs": [],
   "source": [
    "def draw_plot(x_data: pd.DataFrame, y_data: pd.DataFrame, x_label: str, y_label: str) -> None:\n",
    "    fig = plt.figure(figsize=(7, 4))\n",
    "    plt.scatter(x_data, y_data, s = 1)\n",
    "    plt.xlabel(x_label)\n",
    "    plt.ylabel(y_label)\n",
    "    plt.show()"
   ]
  },
  {
   "cell_type": "markdown",
   "metadata": {},
   "source": [
    "### Indicators function"
   ]
  },
  {
   "cell_type": "code",
   "execution_count": 5,
   "metadata": {},
   "outputs": [],
   "source": [
    "def keltner_bands(close: np.ndarray, high: np.ndarray, low: np.ndarray, period: int, multiplier: int) -> tuple:\n",
    "    mid = ta.EMA(close, timeperiod = period)\n",
    "    mid = np.nan_to_num(mid, nan = mid.iloc[period - 1])\n",
    "    kelt_trange = np.array([])\n",
    "\n",
    "    for i in tqdm(range(1, len(close)), desc = \"Calculating kelner bands \"):\n",
    "        tem_trange = max(\n",
    "            high.iloc[-i] - low.iloc[-i],\n",
    "            abs(high.iloc[-i] - close.iloc[-i - 1]),\n",
    "            abs(low.iloc[-i] - close.iloc[-i - 1])\n",
    "        )\n",
    "        kelt_trange = np.append(tem_trange, kelt_trange)\n",
    "    kelt_trange = np.append(high.iloc[0] - low.iloc[0], kelt_trange)\n",
    "    atr = ta.EMA(kelt_trange, timeperiod = period)\n",
    "    atr = np.nan_to_num(atr, nan = atr[period - 1])\n",
    "    upper = mid + atr * multiplier\n",
    "    lower = mid - atr * multiplier\n",
    "\n",
    "    return upper, mid, lower"
   ]
  },
  {
   "cell_type": "code",
   "execution_count": 6,
   "metadata": {},
   "outputs": [],
   "source": [
    "def KDJ(high: np.ndarray, low: np.ndarray, close: np.ndarray, period: int, signal_k: int, signal_d: int) -> tuple:\n",
    "    _alpha_k = 2 / (signal_k + 1)\n",
    "    _alpha_d = 2 / (signal_d + 1)\n",
    "\n",
    "    lowest = ta.MIN(low, timeperiod = period)\n",
    "    lowest = np.nan_to_num(lowest, nan = lowest.iloc[period - 1])\n",
    "    highest = ta.MAX(high, timeperiod = period)\n",
    "    highest = np.nan_to_num(highest, nan = highest.iloc[period - 1])\n",
    "\n",
    "    rsv = (close - lowest) / (highest - lowest) * 100\n",
    "    \n",
    "    K = np.array([50])\n",
    "    D = np.array([50])\n",
    "    J = np.array([50])\n",
    "    \n",
    "    for i in tqdm(range(1, len(close)), desc = \"Calculating KDJ \"):\n",
    "        K = np.append(K, int(_alpha_k * ((K[-1] + 2 * rsv.iloc[i]) / 3) + (1 - _alpha_k) * K[-1] + 0.5))\n",
    "        D = np.append(D,  int(_alpha_d * ((D[-1] + 2 * K[-1]) / 3) + (1 - _alpha_d) * D[-1] + 0.5))\n",
    "        J = np.append(J, 3 * K[-1] - 2 * D[-1])\n",
    "\n",
    "    return K, D, J"
   ]
  },
  {
   "cell_type": "markdown",
   "metadata": {},
   "source": [
    "## Data preprocess"
   ]
  },
  {
   "cell_type": "markdown",
   "metadata": {},
   "source": [
    "### Load data and split into train/test set"
   ]
  },
  {
   "cell_type": "code",
   "execution_count": 7,
   "metadata": {},
   "outputs": [
    {
     "name": "stdout",
     "output_type": "stream",
     "text": [
      "Succeed to load and check the data at 'data/TXF_long.csv'\n",
      "Succeed to load and check the data at 'data/TXFR1_1min.csv'\n"
     ]
    }
   ],
   "source": [
    "def load_and_check(data_path: str, start_date: datetime.date = None, end_date: datetime.date = None) -> pd.DataFrame:\n",
    "    global BEGIN_TIME, END_TIME\n",
    "\n",
    "    data = pd.read_csv(data_path, dtype = {\n",
    "        'Date': str,\n",
    "        'open': np.int16,\n",
    "        'high': np.int16,\n",
    "        'low': np.int16,\n",
    "        'close': np.int16,\n",
    "        'volume': np.int16\n",
    "    }, index_col = 0)\n",
    "    data.index = pd.to_datetime(data.Date)\n",
    "    data = data.between_time(BEGIN_TIME, END_TIME)\n",
    "\n",
    "    if start_date is not None:\n",
    "        data = data[(data.index.date >= start_date) & (data.index.date <= end_date)]\n",
    " \n",
    "    IS_MISSING_DATA = False\n",
    "    missing_time_index = []\n",
    "    for i in range(1, len(data.index)):\n",
    "        if data.index[i] - data.index[i - 1] != datetime.timedelta(minutes = 1) and data.index[i].time() != BEGIN_TIME:\n",
    "            if IS_MISSING_DATA == False:\n",
    "                IS_MISSING_DATA = True\n",
    "                print('Not continuous time: ')\n",
    "                \n",
    "            print('\\t', data.index[i - 1], data.index[i])\n",
    "            missing_time_index.append(i - 1)\n",
    "\n",
    "    finish = 0\n",
    "    if IS_MISSING_DATA:\n",
    "        print('=' * 50)\n",
    "\n",
    "        for int_index in missing_time_index:\n",
    "            time_delta = (data.index[int_index + finish + 1] - data.index[int_index + finish]).seconds // 60\n",
    "            Entity_delta = data.Open.iloc[int_index + finish + 1] - data.Close.iloc[int_index + finish]\n",
    "            High_delta = data.High.iloc[int_index + finish + 1] - data.High.iloc[int_index + finish]\n",
    "            Low_delta = data.Low.iloc[int_index + finish + 1] - data.Low.iloc[int_index + finish]\n",
    "            Volume_delta = data.Volume.iloc[int_index + finish + 1] - data.Volume.iloc[int_index + finish]\n",
    "            print(Entity_delta)\n",
    "\n",
    "            for minute in range(1, time_delta):\n",
    "                print(f\"Missing data at {data.index[int_index + finish]}\")\n",
    "                print(data.iloc[int_index + finish - 1: int_index + finish + 4][:-1], end = '\\n\\n')\n",
    "                \n",
    "                time_for_missing_data = (data.index[int_index + finish] + datetime.timedelta(minutes = 1))\n",
    "                new_data = pd.DataFrame({\n",
    "                    'Date': time_for_missing_data,\n",
    "                    'Open': data.Close.iloc[int_index + finish],\n",
    "                    'High': round(data.High.iloc[int_index + finish - minute + 1] + High_delta * minute / (time_delta - 1)),\n",
    "                    'Low': round(data.Low.iloc[int_index + finish - minute + 1] + Low_delta * minute / (time_delta - 1)),\n",
    "                    'Close': round(data.Close.iloc[int_index + finish - minute + 1] + Entity_delta * minute / (time_delta - 1)),\n",
    "                    'Volume': round(data.Volume.iloc[int_index + finish - minute + 1] + Volume_delta * minute / (time_delta - 1))\n",
    "                }, index = [time_for_missing_data])\n",
    "                data = pd.concat([data.iloc[:int_index + finish + 1], new_data, data.iloc[int_index + finish + 1:]])\n",
    "                finish += 1\n",
    "                print(data.iloc[int_index + finish - 1: int_index + finish + 4], end = '\\n\\n')\n",
    "\n",
    "        int_index_for_all_data = [i for i in range(len(data))]\n",
    "        data.insert(0, '', int_index_for_all_data)\n",
    "        data.to_csv(data_path, index = False)\n",
    "\n",
    "        load_and_check(data_path)\n",
    "    else:\n",
    "        print(f\"Succeed to load and check the data at '{data_path}'\")\n",
    "        return data\n",
    "\n",
    "TXF = load_and_check('data/TXF_long.csv')\n",
    "TXF_test = load_and_check('data/TXFR1_1min.csv', start_date = datetime.date(2023, 1, 1), end_date = datetime.date(2024, 8, 16))"
   ]
  },
  {
   "cell_type": "code",
   "execution_count": 8,
   "metadata": {},
   "outputs": [
    {
     "name": "stdout",
     "output_type": "stream",
     "text": [
      "TXF shape: (761801, 6)\n",
      "TXF_test shape: (93749, 7)\n"
     ]
    }
   ],
   "source": [
    "print(f'TXF shape: {TXF.shape}')\n",
    "print(f'TXF_test shape: {TXF_test.shape}')"
   ]
  },
  {
   "cell_type": "code",
   "execution_count": 9,
   "metadata": {},
   "outputs": [
    {
     "name": "stdout",
     "output_type": "stream",
     "text": [
      "train size: 609440\n",
      "valid size: 99341\n",
      "test size: 92785\n"
     ]
    }
   ],
   "source": [
    "## Split the data into training, validating and testing set\n",
    "TXF_train_and_valid = TXF[(TXF.index.date < datetime.date(2023, 1, 1))]\n",
    "TXF_train = TXF_train_and_valid.iloc[ : int(TXF.shape[0] * 0.8)]\n",
    "TXF_valid = TXF_train_and_valid.iloc[int(TXF.shape[0] * 0.8) : ]\n",
    "TXF_test = pd.concat([TXF[(TXF.index.date >= datetime.date(2023, 1, 1))], TXF_test[(TXF_test.index.date >= datetime.date(2023, 12, 9))]])\n",
    "\n",
    "print(f'train size: {TXF_train.shape[0]}')\n",
    "print(f'valid size: {TXF_valid.shape[0]}')\n",
    "print(f'test size: {TXF_test.shape[0]}')"
   ]
  },
  {
   "cell_type": "code",
   "execution_count": 10,
   "metadata": {},
   "outputs": [
    {
     "data": {
      "image/png": "[encoded data removed]",
      "text/plain": [
       "<Figure size 700x400 with 1 Axes>"
      ]
     },
     "metadata": {},
     "output_type": "display_data"
    }
   ],
   "source": [
    "draw_plot(TXF_train.index, TXF_train.Close, 'TXF Close', 'Time')"
   ]
  },
  {
   "cell_type": "markdown",
   "metadata": {},
   "source": [
    "### Dataset and DataLoader"
   ]
  },
  {
   "cell_type": "code",
   "execution_count": 11,
   "metadata": {},
   "outputs": [
    {
     "name": "stderr",
     "output_type": "stream",
     "text": [
      "Calculating kelner bands : 100%|██████████| 708780/708780 [08:29<00:00, 1390.07it/s] \n"
     ]
    }
   ],
   "source": [
    "## Dataset and DataLoader\n",
    "class custom_dataset(torch.utils.data.Dataset):\n",
    "    def __init__(self, TXF, TSMC = None):\n",
    "        self.TXF = torch.cat((\n",
    "            torch.unsqueeze(torch.tensor(TXF.Open.values), 1),\n",
    "            torch.unsqueeze(torch.tensor(TXF.High.values), 1),\n",
    "            torch.unsqueeze(torch.tensor(TXF.Low.values), 1),\n",
    "            torch.unsqueeze(torch.tensor(TXF.Close.values), 1),\n",
    "            torch.unsqueeze(torch.tensor(TXF.Volume.values), 1)\n",
    "        ), 1)\n",
    "        # self.TSMC = torch.unsqueeze(torch.tensor(TSMC.Close.values), 1)\n",
    "        # print(self.TXF.shape)\n",
    "        # print(self.TSMC.shape)\n",
    "\n",
    "        self.TXF_close = torch.unsqueeze(torch.tensor(TXF.Close.values), 1).double()\n",
    "        # print(self.TXF_close.shape)\n",
    "\n",
    "        self.data_len = self.TXF.shape[0]\n",
    "\n",
    "        self.sma_short = ta.SMA(TXF.Close, timeperiod = 3)\n",
    "        self.sma_short = torch.tensor(np.nan_to_num(self.sma_short, nan = self.sma_short.iloc[2]))\n",
    "        self.sma_short = torch.unsqueeze(self.sma_short, 1)\n",
    "\n",
    "        self.sma_long = ta.SMA(TXF.Close, timeperiod = 9)\n",
    "        self.sma_long = torch.tensor(np.nan_to_num(self.sma_long, nan = self.sma_long.iloc[8]))\n",
    "        self.sma_long = torch.unsqueeze(self.sma_long, 1)\n",
    "\n",
    "        self.adosc = ta.ADOSC(TXF.High, TXF.Low, TXF.Close, TXF.Volume, fastperiod = 6, slowperiod = 15)\n",
    "        self.adosc = torch.tensor(np.nan_to_num(self.adosc, nan = self.adosc.iloc[14]))\n",
    "        self.adosc = torch.unsqueeze(self.adosc, 1)\n",
    "\n",
    "        self.bband_upper, self.bband_middle, self.bband_lower = ta.BBANDS(TXF.Close, timeperiod = 20, nbdevup = 2, nbdevdn = 2)\n",
    "\n",
    "        self.bband_upper = torch.tensor(np.nan_to_num(self.bband_upper, nan = self.bband_upper.iloc[19]))\n",
    "        self.bband_upper = torch.unsqueeze(self.bband_upper, 1)\n",
    "\n",
    "        self.bband_middle = torch.tensor(np.nan_to_num(self.bband_middle, nan = self.bband_middle.iloc[19]))\n",
    "        self.bband_middle = torch.unsqueeze(self.bband_middle, 1)\n",
    "\n",
    "        self.bband_lower = torch.tensor(np.nan_to_num(self.bband_lower, nan = self.bband_lower.iloc[19]))\n",
    "        self.bband_lower = torch.unsqueeze(self.bband_lower, 1)\n",
    "\n",
    "        self.keltner_upper, self.keltner_middle, self.keltner_lower = keltner_bands(TXF.Close, TXF.High, TXF.Low, 20, 1.5)\n",
    "        self.keltner_upper = torch.tensor(self.keltner_upper)\n",
    "        self.keltner_upper = torch.unsqueeze(self.keltner_upper, 1)\n",
    "\n",
    "        self.keltner_middle = torch.tensor(self.keltner_middle)\n",
    "        self.keltner_middle = torch.unsqueeze(self.keltner_middle, 1)\n",
    "\n",
    "        self.keltner_lower = torch.tensor(self.keltner_lower)\n",
    "        self.keltner_lower = torch.unsqueeze(self.keltner_lower, 1)\n",
    "\n",
    "        self.K, self.D, self.J = KDJ(TXF.High, TXF.Low, TXF.Close, 9, 3, 3)\n",
    "        self.K = torch.tensor(self.K)\n",
    "        self.K = torch.unsqueeze(self.K, 1)\n",
    "\n",
    "        self.D = torch.tensor(self.D)\n",
    "        self.D = torch.unsqueeze(self.D, 1)\n",
    "\n",
    "        self.J = torch.tensor(self.J)\n",
    "        self.J = torch.unsqueeze(self.J, 1)\n",
    "\n",
    "    def __len__(self):\n",
    "        return self.data_len - (SEQ_LEN + MIN_LATER + 1) - 1\n",
    "    \n",
    "    def __getitem__(self, idx):\n",
    "        x_data = torch.cat((\n",
    "            self.TXF[idx : idx + SEQ_LEN],\n",
    "            # self.TSMC[idx : idx + SEQ_LEN],\n",
    "            self.sma_short[idx : idx + SEQ_LEN],\n",
    "            self.sma_long[idx : idx + SEQ_LEN],\n",
    "            self.adosc[idx : idx + SEQ_LEN],\n",
    "            self.bband_upper[idx : idx + SEQ_LEN],\n",
    "            self.bband_middle[idx : idx + SEQ_LEN],\n",
    "            self.bband_lower[idx : idx + SEQ_LEN],\n",
    "            self.keltner_upper[idx : idx + SEQ_LEN],\n",
    "            self.keltner_middle[idx : idx + SEQ_LEN],\n",
    "            self.keltner_lower[idx : idx + SEQ_LEN],\n",
    "            self.K[idx : idx + SEQ_LEN],\n",
    "            self.D[idx : idx + SEQ_LEN],\n",
    "            self.J[idx : idx + SEQ_LEN]\n",
    "        ), 1)\n",
    "\n",
    "        y_data = self.TXF_close[idx + SEQ_LEN + MIN_LATER + 1]\n",
    "\n",
    "        return x_data, y_data\n",
    "    \n",
    "train_valid_dataset = custom_dataset(TXF_train_and_valid)\n",
    "    \n",
    "# train_dataset = custom_dataset(TXF_train)\n",
    "# train_dataloader = torch.utils.data.DataLoader(train_dataset, batch_size = BATCH_SIZE, shuffle = True, pin_memory = True, drop_last = True)\n",
    "\n",
    "# valid_dataset = custom_dataset(TXF_valid)\n",
    "# valid_dataloader = torch.utils.data.DataLoader(valid_dataset, batch_size = BATCH_SIZE, shuffle = True, pin_memory = True, drop_last = True)\n",
    "\n",
    "test_dataset = custom_dataset(TXF_test)\n",
    "test_dataloader = torch.utils.data.DataLoader(test_dataset, batch_size = BATCH_SIZE, shuffle = True, pin_memory = True, drop_last = True)"
   ]
  },
  {
   "cell_type": "code",
   "execution_count": 28,
   "metadata": {},
   "outputs": [
    {
     "name": "stdout",
     "output_type": "stream",
     "text": [
      "In every data: \n",
      "\tx_data shape: torch.Size([120, 17])\n",
      "\ty_data shape: torch.Size([1])\n",
      "\n",
      "Which means we use the past [120] minutes data to predict the price in [15] minutes later\n"
     ]
    }
   ],
   "source": [
    "test = iter(torch.utils.data.DataLoader(test_dataset, batch_size = BATCH_SIZE, shuffle = False))\n",
    "# test = iter(torch.utils.data.DataLoader(train_dataset, batch_size = BATCH_SIZE, shuffle = False))\n",
    "test_x, test_y = next(test)\n",
    "FEATURE_NUM = test_x.shape[2]\n",
    "\n",
    "print(f'In every data: ')\n",
    "print(f'\\tx_data shape: {test_x[0].shape}')\n",
    "print(f'\\ty_data shape: {test_y[0].shape}\\n')\n",
    "print(f'Which means we use the past [{SEQ_LEN}] minutes data to predict the price in [{MIN_LATER}] minutes later')"
   ]
  },
  {
   "cell_type": "code",
   "execution_count": 29,
   "metadata": {},
   "outputs": [
    {
     "name": "stdout",
     "output_type": "stream",
     "text": [
      "torch.Size([32, 120, 17])\n",
      "torch.Size([32, 1])\n"
     ]
    }
   ],
   "source": [
    "print(test_x.shape)\n",
    "print(test_y.shape)"
   ]
  },
  {
   "cell_type": "markdown",
   "metadata": {},
   "source": [
    "## Model"
   ]
  },
  {
   "cell_type": "markdown",
   "metadata": {},
   "source": [
    "### Model implementation"
   ]
  },
  {
   "cell_type": "markdown",
   "metadata": {},
   "source": [
    "#### Position embedding layer"
   ]
  },
  {
   "cell_type": "code",
   "execution_count": 30,
   "metadata": {},
   "outputs": [],
   "source": [
    "class PositionEmbedding(torch.nn.Module):\n",
    "    def __init__(self, d_model: int) -> None:\n",
    "        super(PositionEmbedding, self).__init__()\n",
    "        self.linear = torch.nn.Linear(FEATURE_NUM, d_model, dtype = torch.double)\n",
    "\n",
    "        # Create a matrix of shape (max_len, feature_num)\n",
    "        pe = torch.zeros(SEQ_LEN, d_model)\n",
    "        position = torch.arange(0, SEQ_LEN, dtype=torch.float).unsqueeze(1)\n",
    "        div_term = torch.exp(torch.arange(0, d_model, 2).float() * (-math.log(10000.0) / d_model))\n",
    "        \n",
    "        pe[:, 0::2] = torch.sin(position * div_term)\n",
    "        pe[:, 1::2] = torch.cos(position * div_term)\n",
    "        \n",
    "        pe = pe.unsqueeze(0)  # Add a batch dimension\n",
    "        self.register_buffer('pe', pe)\n",
    "\n",
    "    def forward(self, x):\n",
    "        x = self.linear(x)\n",
    "        x = x + self.pe[:, :x.size(1)]\n",
    "        return x"
   ]
  },
  {
   "cell_type": "markdown",
   "metadata": {},
   "source": [
    "#### Multi-head attention layer"
   ]
  },
  {
   "cell_type": "code",
   "execution_count": 31,
   "metadata": {},
   "outputs": [],
   "source": [
    "class MultiHeadAttention(torch.nn.Module):\n",
    "    def __init__(self, d_model: int, num_heads: int) -> None:\n",
    "        super(MultiHeadAttention, self).__init__()\n",
    "        \n",
    "        # d_model should be divisible by num_heads\n",
    "        assert d_model % num_heads == 0\n",
    "        \n",
    "        self.d_model = d_model\n",
    "        self.num_heads = num_heads\n",
    "        self.d_k = d_model // num_heads\n",
    "\n",
    "        self.V_linear = torch.nn.Linear(d_model, d_model, dtype = torch.double)\n",
    "        self.K_linear = torch.nn.Linear(d_model, d_model, dtype = torch.double)\n",
    "        self.Q_linear = torch.nn.Linear(d_model, d_model, dtype = torch.double)\n",
    "        self.output_linear = torch.nn.Linear(d_model, d_model, dtype = torch.double)\n",
    "\n",
    "    def scaled_dot_product_attention(self, Q: torch.tensor, K: torch.tensor, V: torch.tensor) -> torch.tensor:\n",
    "        # Q, V: [batch_size, num_heads, seq_len, d_k]\n",
    "        # K: [batch_size, num_heads, seq_len, d_k] -> K: [batch_size, num_heads, d_k, seq_len]\n",
    "        # attention: [batch_size, num_heads, seq_len, seq_len]\n",
    "        attention = torch.matmul(Q, K.transpose(-2, -1)) / torch.sqrt(torch.tensor(self.d_k).float())\n",
    "\n",
    "        # attention_prob: [batch_size, num_heads, seq_len, seq_len]\n",
    "        # It satisfies the sum of the last dimension is 1\n",
    "        # For example, assume the result of this softmax is a\n",
    "        # then a[0][0][0][0] + a[0][0][0][1] + ... + a[0][0][0][seq_len - 1] = 1\n",
    "        attention_prob = torch.nn.functional.softmax(attention, dim = -1)\n",
    "        output = torch.matmul(attention_prob, V)\n",
    "        return output\n",
    "    \n",
    "    def split_heads(self, x: torch.tensor) -> torch.tensor:\n",
    "        batch_size, seq_len, d_model = x.size()\n",
    "\n",
    "        # x: [batch_size, seq_len, d_model] -> x: [batch_size, num_heads, seq_len, d_k]\n",
    "        x = x.view(batch_size, seq_len, self.num_heads, self.d_k).transpose(1, 2)\n",
    "        return x\n",
    "    \n",
    "    def concat_heads(self, x: torch.tensor) -> torch.tensor:\n",
    "        batch_size, _, seq_len, d_k = x.size()\n",
    "\n",
    "        # x: [batch_size, num_heads, seq_len, d_k] -> x: [batch_size, seq_len, d_model]\n",
    "        x = x.transpose(1, 2).contiguous().view(batch_size, seq_len, self.d_model)\n",
    "        return x\n",
    "    \n",
    "    def forward(self, Q: torch.tensor, K: torch.tensor, V: torch.tensor) -> torch.tensor:\n",
    "        Q = self.split_heads(self.Q_linear(Q))\n",
    "        K = self.split_heads(self.K_linear(K))\n",
    "        V = self.split_heads(self.V_linear(V))\n",
    "        # print(\"-> Split head succeeded!\")\n",
    "\n",
    "        attention_output = self.scaled_dot_product_attention(Q, K, V)\n",
    "        # print(\"-> Scaled dot product attention succeeded!\")\n",
    "\n",
    "        output = self.output_linear(self.concat_heads(attention_output))\n",
    "        # print(\"-> Concat head succeeded!\")\n",
    "        \n",
    "        return output"
   ]
  },
  {
   "cell_type": "markdown",
   "metadata": {},
   "source": [
    "#### Feed forward layer"
   ]
  },
  {
   "cell_type": "code",
   "execution_count": 32,
   "metadata": {},
   "outputs": [],
   "source": [
    "class FeedForward(torch.nn.Module):\n",
    "    def __init__(self, d_model: int, d_ff: int) -> None:\n",
    "        super(FeedForward, self).__init__()\n",
    "        # self.fully_connected_1 = torch.nn.Linear(d_model, d_ff, dtype = torch.double)\n",
    "        # self.fully_connected_2 = torch.nn.Linear(d_ff, d_model, dtype = torch.double)\n",
    "        self.conv1d_1 = torch.nn.Conv1d(in_channels = d_model, out_channels = d_ff, kernel_size = 1, dtype = torch.double)\n",
    "        self.conv1d_2 = torch.nn.Conv1d(in_channels = d_ff, out_channels = d_model, kernel_size = 1, dtype = torch.double)\n",
    "        self.relu = torch.nn.ReLU()\n",
    "\n",
    "    def forward(self, x: torch.tensor) -> torch.tensor:\n",
    "        x = x.transpose(1, 2)\n",
    "        nonliear_output_1 = self.relu(self.conv1d_1(x))\n",
    "        output = self.conv1d_2(nonliear_output_1)\n",
    "        return output.transpose(1, 2)\n"
   ]
  },
  {
   "cell_type": "markdown",
   "metadata": {},
   "source": [
    "#### Encoder layer"
   ]
  },
  {
   "cell_type": "code",
   "execution_count": 33,
   "metadata": {},
   "outputs": [],
   "source": [
    "class Encoder(torch.nn.Module):\n",
    "    def __init__(self, d_model: int, num_heads: int, dropout_rate: int) -> None:\n",
    "        super(Encoder, self).__init__()\n",
    "        self.multi_head_attention = MultiHeadAttention(d_model, num_heads)\n",
    "        self.feed_forward = FeedForward(d_model, d_model * 4)\n",
    "        self.norm_1 = torch.nn.LayerNorm(d_model, dtype = torch.double)\n",
    "        self.norm_2 = torch.nn.LayerNorm(d_model, dtype = torch.double)\n",
    "        self.dropout = torch.nn.Dropout(dropout_rate)\n",
    "        \n",
    "    def forward(self, x):\n",
    "        # print(\"Start to encode...\")\n",
    "        attention_output = self.multi_head_attention(x, x, x)\n",
    "        # print(\"Get the attention output!\\n\")\n",
    "\n",
    "        # print(\"Start to feed forward...\")\n",
    "        feed_forward_input = self.norm_1(x + self.dropout(attention_output))\n",
    "        feed_forward_output = self.feed_forward(feed_forward_input)\n",
    "        output = self.norm_2(feed_forward_input + self.dropout(feed_forward_output))\n",
    "        # print(\"Get the feed forward output!\\n\")\n",
    "        \n",
    "        return output"
   ]
  },
  {
   "cell_type": "markdown",
   "metadata": {},
   "source": [
    "#### Transformer model"
   ]
  },
  {
   "cell_type": "code",
   "execution_count": 34,
   "metadata": {},
   "outputs": [],
   "source": [
    "class Transformer(torch.nn.Module):\n",
    "    def __init__(self, d_model: int, num_heads: int, num_layers: int, dropout_rate: int) -> None:\n",
    "        super(Transformer, self).__init__()\n",
    "        self.d_model = d_model\n",
    "\n",
    "        self.position_embedding = PositionEmbedding(d_model)\n",
    "        self.encoder = torch.nn.ModuleList([Encoder(d_model, num_heads, dropout_rate) for _ in range(num_layers)])\n",
    "        self.dropout = torch.nn.Dropout(dropout_rate)\n",
    "        self.prepare_output = torch.nn.Linear(SEQ_LEN * D_MODEL, 64, dtype = torch.double)\n",
    "        self.relu = torch.nn.ReLU()\n",
    "        self.final_layer = torch.nn.Linear(64, 1, dtype = torch.double)\n",
    "\n",
    "    def forward(self, x):\n",
    "        x = self.position_embedding(x)\n",
    "\n",
    "        encoder_output = x\n",
    "        for encoder in self.encoder:\n",
    "            encoder_output = encoder(encoder_output)\n",
    "\n",
    "        encoder_output = encoder_output.view(encoder_output.shape[0], -1)\n",
    "\n",
    "        # [batch_size, seq_len] -> [batch_size, 64]\n",
    "        flatten_encoder_output = self.dropout(self.prepare_output(encoder_output))\n",
    "\n",
    "        output = self.final_layer(flatten_encoder_output)\n",
    "        return output"
   ]
  },
  {
   "cell_type": "markdown",
   "metadata": {},
   "source": [
    "### Define Model"
   ]
  },
  {
   "cell_type": "code",
   "execution_count": 35,
   "metadata": {},
   "outputs": [],
   "source": [
    "def init_model():\n",
    "    transformer = Transformer(\n",
    "        d_model = D_MODEL,\n",
    "        num_heads = NUM_HEADS,\n",
    "        num_layers = NUM_ENCODER_LAYERS,\n",
    "        dropout_rate = DROPOUT_RATE\n",
    "    ).to(device = DEVICE)\n",
    "\n",
    "    criterion = torch.nn.MSELoss().to(device = DEVICE)\n",
    "    optimizer = torch.optim.Adam(transformer.parameters(), lr = LEARNING_RATE, betas=(0.9, 0.98), eps=1e-8, weight_decay = 0.02)\n",
    "\n",
    "    return transformer, criterion, optimizer\n",
    "\n",
    "transformer, criterion, optimizer = init_model()"
   ]
  },
  {
   "cell_type": "code",
   "execution_count": 36,
   "metadata": {},
   "outputs": [
    {
     "data": {
      "text/plain": [
       "Transformer(\n",
       "  (position_embedding): PositionEmbedding(\n",
       "    (linear): Linear(in_features=17, out_features=6, bias=True)\n",
       "  )\n",
       "  (encoder): ModuleList(\n",
       "    (0-5): 6 x Encoder(\n",
       "      (multi_head_attention): MultiHeadAttention(\n",
       "        (V_linear): Linear(in_features=6, out_features=6, bias=True)\n",
       "        (K_linear): Linear(in_features=6, out_features=6, bias=True)\n",
       "        (Q_linear): Linear(in_features=6, out_features=6, bias=True)\n",
       "        (output_linear): Linear(in_features=6, out_features=6, bias=True)\n",
       "      )\n",
       "      (feed_forward): FeedForward(\n",
       "        (conv1d_1): Conv1d(6, 24, kernel_size=(1,), stride=(1,))\n",
       "        (conv1d_2): Conv1d(24, 6, kernel_size=(1,), stride=(1,))\n",
       "        (relu): ReLU()\n",
       "      )\n",
       "      (norm_1): LayerNorm((6,), eps=1e-05, elementwise_affine=True)\n",
       "      (norm_2): LayerNorm((6,), eps=1e-05, elementwise_affine=True)\n",
       "      (dropout): Dropout(p=0.1, inplace=False)\n",
       "    )\n",
       "  )\n",
       "  (dropout): Dropout(p=0.1, inplace=False)\n",
       "  (prepare_output): Linear(in_features=720, out_features=64, bias=True)\n",
       "  (relu): ReLU()\n",
       "  (final_layer): Linear(in_features=64, out_features=1, bias=True)\n",
       ")"
      ]
     },
     "execution_count": 36,
     "metadata": {},
     "output_type": "execute_result"
    }
   ],
   "source": [
    "torch.cuda.device(0)\n",
    "torch.cuda.empty_cache()\n",
    "torch.cuda.set_device(0)\n",
    "\n",
    "transformer.train()"
   ]
  },
  {
   "cell_type": "markdown",
   "metadata": {},
   "source": [
    "### Start Train and Validate"
   ]
  },
  {
   "cell_type": "markdown",
   "metadata": {},
   "source": [
    "#### Early stop"
   ]
  },
  {
   "cell_type": "code",
   "execution_count": null,
   "metadata": {},
   "outputs": [],
   "source": [
    "class early_stopper:\n",
    "    def __init__(self, patience: int, min_delta_percentage: float) -> None:\n",
    "        self.patience = patience\n",
    "        self.min_delta_percentage = min_delta_percentage\n",
    "        self.counter = 0\n",
    "        self.best_vloss = None\n",
    "        self.best_model_path = None\n",
    "\n",
    "    def update(self, new_best_vloss: float, model: torch.nn.Module) -> None:\n",
    "        self.counter = 0\n",
    "        self.best_vloss = new_best_vloss\n",
    "\n",
    "        if os.path.exists(self.best_model_path):\n",
    "            os.remove(self.best_model_path)\n",
    "        self.best_model_path = f'model_{datetime.datetime.now().strftime(\"%Y%m%d-%H%M%S\")}.pth'\n",
    "        torch.save(model.state_dict(), self.best_model_path)\n",
    "\n",
    "    def __call__(self, vloss: float, model: torch.nn.Module) -> bool:\n",
    "        if self.best_vloss is None:\n",
    "            self.update(vloss, model)\n",
    "            return False\n",
    "\n",
    "        if vloss < self.best_vloss:\n",
    "            self.update(vloss, model)\n",
    "            return False\n",
    "        \n",
    "        elif vloss > self.best_vloss * (1 + self.min_delta_percentage):\n",
    "            self.counter += 1\n",
    "            if self.counter >= self.patience:\n",
    "                return True\n",
    "            return False\n"
   ]
  },
  {
   "cell_type": "markdown",
   "metadata": {},
   "source": [
    "#### Classic train-validate"
   ]
  },
  {
   "cell_type": "code",
   "execution_count": 37,
   "metadata": {},
   "outputs": [
    {
     "ename": "",
     "evalue": "",
     "output_type": "error",
     "traceback": [
      "\u001b[1;31mThe Kernel crashed while executing code in the current cell or a previous cell. \n",
      "\u001b[1;31mPlease review the code in the cell(s) to identify a possible cause of the failure. \n",
      "\u001b[1;31mClick <a href='https://aka.ms/vscodeJupyterKernelCrash'>here</a> for more info. \n",
      "\u001b[1;31mView Jupyter <a href='command:jupyter.viewOutput'>log</a> for further details."
     ]
    }
   ],
   "source": [
    "# best_average_vloss = float('inf')\n",
    "# model_path = \"\"\n",
    "\n",
    "# for epoch in range(EPOCHS):\n",
    "#     transformer.train()\n",
    "\n",
    "#     epoch_loss = 0\n",
    "#     for x_data, y_data in tqdm(train_dataloader, desc = f'Epoch: {epoch + 1}, Training...'):\n",
    "#         x_data = x_data.to(device = DEVICE)\n",
    "#         y_data = y_data.to(device = DEVICE)\n",
    "\n",
    "#         optimizer.zero_grad()\n",
    "#         output = transformer(x_data)\n",
    "#         loss = criterion(output, y_data)\n",
    "#         loss.backward()\n",
    "#         optimizer.step()\n",
    "#         epoch_loss += loss.item()\n",
    "\n",
    "#     avg_epoch_loss = epoch_loss / TXF_train.shape[0]\n",
    "#     print(f'Epoch: {epoch + 1}, Average Loss: {avg_epoch_loss}')\n",
    "#     wandb.log({'loss': epoch_loss})\n",
    "#     wandb.log({'average_loss': avg_epoch_loss})\n",
    "\n",
    "#     transformer.eval()\n",
    "#     epoch_vloss = 0\n",
    "#     with torch.no_grad():\n",
    "#         for x_data, y_data in tqdm(valid_dataloader, desc = f'Epoch: {epoch + 1}, Validating...'):\n",
    "#             x_data = x_data.to(device = DEVICE)\n",
    "#             y_data = y_data.to(device = DEVICE)\n",
    "\n",
    "#             voutput = transformer(x_data)\n",
    "#             vloss = criterion(output, y_data)\n",
    "#             epoch_vloss += vloss.item()\n",
    "    \n",
    "#     avg_epoch_vloss = epoch_vloss / TXF_valid.shape[0]\n",
    "#     print(f'Epoch: {epoch + 1}, Average Validation Loss: {avg_epoch_vloss}\\n')\n",
    "#     wandb.log({'validation_loss': epoch_vloss})\n",
    "#     wandb.log({'average_validation_loss': avg_epoch_vloss})\n",
    "\n",
    "#     if avg_epoch_vloss < best_average_vloss:\n",
    "#         if os.path.exists(model_path):\n",
    "#             os.remove(model_path)\n",
    "\n",
    "#         best_average_vloss = avg_epoch_vloss\n",
    "#         model_path = f'model_{epoch + 1}_{datetime.datetime.now().strftime(\"%Y%m%d-%H%M%S\")}.pth'\n",
    "#         torch.save(transformer.state_dict(), model_path)\n"
   ]
  },
  {
   "cell_type": "markdown",
   "metadata": {},
   "source": [
    "#### K-Fold Cross Validation"
   ]
  },
  {
   "cell_type": "code",
   "execution_count": null,
   "metadata": {},
   "outputs": [],
   "source": [
    "def train_model(epoch: int, model: torch.nn.Module, dataloader: torch.utils.data.DataLoader, criterion: torch.nn.Module, optimizer: torch.optim.Optimizer, device: str) -> None:\n",
    "    model.to(device = device)\n",
    "    model.train()\n",
    "\n",
    "    tloss = 0.0\n",
    "    for x_data, y_data in tqdm(dataloader, desc = f'{epoch + 1}: training...', position = 0):\n",
    "        x_data = x_data.to(device = device)\n",
    "        y_data = y_data.to(device = device)\n",
    "\n",
    "        optimizer.zero_grad()\n",
    "        output = model(x_data)\n",
    "        loss = criterion(output, y_data)\n",
    "        loss.backward()\n",
    "        optimizer.step()\n",
    "        tloss += loss.item()\n",
    "\n",
    "    average_tloss = tloss / len(dataloader.dataset)\n",
    "    print(f'Epoch: {epoch + 1}, Average Loss: {average_tloss}')\n",
    "    wandb.log({'loss': tloss})\n",
    "    wandb.log({'average_loss': average_tloss})"
   ]
  },
  {
   "cell_type": "code",
   "execution_count": null,
   "metadata": {},
   "outputs": [],
   "source": [
    "def validate_model(epoch: int, model: torch.nn.Module, dataloader: torch.utils.data.DataLoader, criterion: torch.nn.Module, device: str) -> float:\n",
    "    model.to(device = device)\n",
    "    model.eval()\n",
    "\n",
    "    vloss = 0.0\n",
    "    with torch.no_grad():\n",
    "        for x_data, y_data in tqdm(dataloader, desc = f'{epoch + 1}: validating...', position = 1):\n",
    "            x_data = x_data.to(device = device)\n",
    "            y_data = y_data.to(device = device)\n",
    "\n",
    "            output = model(x_data)\n",
    "            loss = criterion(output, y_data)\n",
    "            vloss += loss.item()\n",
    "\n",
    "    average_vloss = vloss / len(dataloader.dataset)\n",
    "    print(f'Epoch: {epoch + 1}, Average Validation Loss: {average_vloss}\\n')\n",
    "    wandb.log({'validation_loss': vloss})\n",
    "    wandb.log({'average_validation_loss': average_vloss})\n",
    "\n",
    "    return average_vloss"
   ]
  },
  {
   "cell_type": "code",
   "execution_count": null,
   "metadata": {},
   "outputs": [],
   "source": [
    "kfold = KFold(n_splits = K, shuffle = True)\n",
    "for fold, (train_index, valid_index) in enumerate(kfold.split(train_valid_dataset)):\n",
    "    print(f'Fold: {fold + 1}')\n",
    "    \n",
    "    train_subsampler = torch.utils.data.Subset(train_valid_dataset, train_index)\n",
    "    valid_subsampler = torch.utils.data.Subset(train_valid_dataset, valid_index)\n",
    "\n",
    "    train_loader = torch.utils.data.DataLoader(train_subsampler, batch_size = BATCH_SIZE, shuffle = True, pin_memory = True, drop_last = True)\n",
    "    valid_loader = torch.utils.data.DataLoader(valid_subsampler, batch_size = BATCH_SIZE, shuffle = True, pin_memory = True, drop_last = True)\n",
    "\n",
    "    transformer, criterion, optimizer = init_model()\n",
    "    early_stop = early_stopper(patience = 5, min_delta_percentage = 0.05)\n",
    "    torch.cuda.empty_cache()\n",
    "\n",
    "    # training loop\n",
    "    for epoch in range(EPOCHS):\n",
    "        train_model(model = transformer, dataloader = train_loader, criterion = criterion, optimizer = optimizer, device = DEVICE)\n",
    "\n",
    "        average_vloss = validate_model(model = transformer, dataloader = valid_loader, criterion = criterion, device = DEVICE)\n",
    "        if early_stop(average_vloss, transformer):\n",
    "            break\n",
    "\n",
    "    print('=' * 50)"
   ]
  },
  {
   "cell_type": "markdown",
   "metadata": {},
   "source": [
    "### Load the best model in training and predict one of the data in test dataset"
   ]
  },
  {
   "cell_type": "code",
   "execution_count": null,
   "metadata": {},
   "outputs": [],
   "source": [
    "# print(model_path)\n",
    "# transformer = Transformer(\n",
    "#     d_model = D_MODEL,\n",
    "#     num_heads = NUM_HEADS,\n",
    "#     num_layers = NUM_ENCODER_LAYERS,\n",
    "#     dropout_rate = DROPOUT_RATE\n",
    "# ).to(device = DEVICE)\n",
    "\n",
    "# transformer.load_state_dict(torch.load(model_path, weights_only = True))\n",
    "# transformer.eval()\n",
    "\n",
    "# test = iter(test_dataloader)\n",
    "# test_x, test_y = next(test)\n",
    "# test_output = transformer(test_x.to(device = DEVICE))\n",
    "# test_y = test_y.to(device = DEVICE)\n",
    "\n",
    "# print(f'Average difference: {torch.mean(test_output - test_y)}')\n",
    "# print(f'Minimum difference: {torch.min(abs(test_output - test_y))}')\n",
    "# print(f'Maximum difference: {torch.max(abs(test_output - test_y))}')\n",
    "# for i in range(test_output.shape[0]):\n",
    "#     print(f'Predicted: {test_output[i].item()}, \\tTrue: {test_y[i].item()}, \\tdiffernece: {test_output[i].item() - test_y[i].item()}')"
   ]
  },
  {
   "cell_type": "code",
   "execution_count": null,
   "metadata": {},
   "outputs": [],
   "source": [
    "# test2_path = 'data/TXFR1_1min.csv'\n",
    "# test2 = pd.read_csv(test2_path)\n",
    "# test2.index = pd.to_datetime(test2.ts)\n",
    "# test2 = test2.loc[test2.ts.between('2023-12-09', '2024-08-16')]\n",
    "\n",
    "# test2_dataset = custom_dataset(test2)\n",
    "# test2_dataloader = torch.utils.data.DataLoader(test2_dataset, batch_size = BATCH_SIZE, shuffle = False, pin_memory = True, drop_last = True)\n",
    "\n",
    "# test2 = iter(test2_dataloader)\n",
    "# test2_x, test2_y = next(test2)\n",
    "# test2_output = transformer(test2_x.to(device = DEVICE))\n",
    "# test2_y = test2_y.to(device = DEVICE)\n",
    "\n",
    "# print(f'Average difference: {torch.mean(test2_output - test2_y)}')\n",
    "# print(f'Minimum difference: {torch.min(abs(test2_output - test2_y))}')\n",
    "# print(f'Maximum difference: {torch.max(abs(test2_output - test2_y))}')\n",
    "# for i in range(test2_output.shape[0]):\n",
    "#     print(f'Predicted: {test2_output[i].item()}, \\tTrue: {test2_y[i].item()}, \\tdiffernece: {test2_output[i].item() - test2_y[i].item()}')"
   ]
  }
 ],
 "metadata": {
  "kernelspec": {
   "display_name": "Python 3",
   "language": "python",
   "name": "python3"
  },
  "language_info": {
   "codemirror_mode": {
    "name": "ipython",
    "version": 3
   },
   "file_extension": ".py",
   "mimetype": "text/x-python",
   "name": "python",
   "nbconvert_exporter": "python",
   "pygments_lexer": "ipython3",
   "version": "3.11.4"
  }
 },
 "nbformat": 4,
 "nbformat_minor": 2
}
